{
 "cells": [
  {
   "cell_type": "code",
   "execution_count": 2,
   "metadata": {
    "collapsed": true
   },
   "outputs": [],
   "source": [
    "from leecarter import leecarter\n",
    "import pandas as pd\n",
    "\n",
    "import numpy as np\n",
    "import numpy.matlib\n",
    "from matplotlib import pyplot as plt\n",
    "\n",
    "from statsmodels.tsa.stattools import adfuller\n",
    "from statsmodels.graphics.tsaplots import plot_acf, plot_pacf\n",
    "from statsmodels.tsa.arima.model import ARIMA\n",
    "\n",
    "\n",
    "from statsmodels.tools.sm_exceptions import ConvergenceWarning"
   ]
  },
  {
   "cell_type": "code",
   "execution_count": 7,
   "outputs": [
    {
     "data": {
      "text/plain": "      Year  Age  Female_l    Male_l   Total_l\n0     1959    0 -3.286272 -3.070736 -3.170419\n1     1959    1 -5.053334 -4.988336 -5.019626\n2     1959    2 -5.978351 -5.904920 -5.940011\n3     1959    3 -6.454771 -6.341873 -6.395531\n4     1959    4 -6.707266 -6.458592 -6.572713\n...    ...  ...       ...       ...       ...\n6201  2014   96 -1.066663 -1.056384 -1.065127\n6202  2014   97 -0.977443 -1.053325 -0.988109\n6203  2014   98 -0.906543 -0.964867 -0.914670\n6204  2014   99 -0.911368 -0.909725 -0.911134\n6205  2014  100 -0.880994 -0.987035 -0.896079\n\n[5656 rows x 5 columns]",
      "text/html": "<div>\n<style scoped>\n    .dataframe tbody tr th:only-of-type {\n        vertical-align: middle;\n    }\n\n    .dataframe tbody tr th {\n        vertical-align: top;\n    }\n\n    .dataframe thead th {\n        text-align: right;\n    }\n</style>\n<table border=\"1\" class=\"dataframe\">\n  <thead>\n    <tr style=\"text-align: right;\">\n      <th></th>\n      <th>Year</th>\n      <th>Age</th>\n      <th>Female_l</th>\n      <th>Male_l</th>\n      <th>Total_l</th>\n    </tr>\n  </thead>\n  <tbody>\n    <tr>\n      <th>0</th>\n      <td>1959</td>\n      <td>0</td>\n      <td>-3.286272</td>\n      <td>-3.070736</td>\n      <td>-3.170419</td>\n    </tr>\n    <tr>\n      <th>1</th>\n      <td>1959</td>\n      <td>1</td>\n      <td>-5.053334</td>\n      <td>-4.988336</td>\n      <td>-5.019626</td>\n    </tr>\n    <tr>\n      <th>2</th>\n      <td>1959</td>\n      <td>2</td>\n      <td>-5.978351</td>\n      <td>-5.904920</td>\n      <td>-5.940011</td>\n    </tr>\n    <tr>\n      <th>3</th>\n      <td>1959</td>\n      <td>3</td>\n      <td>-6.454771</td>\n      <td>-6.341873</td>\n      <td>-6.395531</td>\n    </tr>\n    <tr>\n      <th>4</th>\n      <td>1959</td>\n      <td>4</td>\n      <td>-6.707266</td>\n      <td>-6.458592</td>\n      <td>-6.572713</td>\n    </tr>\n    <tr>\n      <th>...</th>\n      <td>...</td>\n      <td>...</td>\n      <td>...</td>\n      <td>...</td>\n      <td>...</td>\n    </tr>\n    <tr>\n      <th>6201</th>\n      <td>2014</td>\n      <td>96</td>\n      <td>-1.066663</td>\n      <td>-1.056384</td>\n      <td>-1.065127</td>\n    </tr>\n    <tr>\n      <th>6202</th>\n      <td>2014</td>\n      <td>97</td>\n      <td>-0.977443</td>\n      <td>-1.053325</td>\n      <td>-0.988109</td>\n    </tr>\n    <tr>\n      <th>6203</th>\n      <td>2014</td>\n      <td>98</td>\n      <td>-0.906543</td>\n      <td>-0.964867</td>\n      <td>-0.914670</td>\n    </tr>\n    <tr>\n      <th>6204</th>\n      <td>2014</td>\n      <td>99</td>\n      <td>-0.911368</td>\n      <td>-0.909725</td>\n      <td>-0.911134</td>\n    </tr>\n    <tr>\n      <th>6205</th>\n      <td>2014</td>\n      <td>100</td>\n      <td>-0.880994</td>\n      <td>-0.987035</td>\n      <td>-0.896079</td>\n    </tr>\n  </tbody>\n</table>\n<p>5656 rows × 5 columns</p>\n</div>"
     },
     "execution_count": 7,
     "metadata": {},
     "output_type": "execute_result"
    }
   ],
   "source": [
    "filename = 'death_rates2_russia.txt'\n",
    "\n",
    "mortality = pd.read_csv(filename, delim_whitespace=True)\n",
    "mortality = mortality[mortality['Age'] != '110+']\n",
    "mortality['Age'] = mortality['Age'].astype(int)\n",
    "mortality['Year'] = mortality['Year'].astype(int)\n",
    "mortality = mortality[mortality['Age'] <= 100]\n",
    "mortality['Female_l'] = np.log(mortality['Female'].astype(float))\n",
    "mortality['Male_l'] = np.log(mortality['Male'].astype(float))\n",
    "mortality['Total_l'] = np.log(mortality['Total'].astype(float))\n",
    "mortality = mortality[['Year', 'Age', 'Female_l', 'Male_l', 'Total_l']]\n",
    "mortality"
   ],
   "metadata": {
    "collapsed": false,
    "pycharm": {
     "name": "#%%\n"
    }
   }
  },
  {
   "cell_type": "code",
   "execution_count": 8,
   "outputs": [],
   "source": [
    "# split train test\n",
    "def fit_arima(matrix):\n",
    "    d = []\n",
    "    for a in range(5):\n",
    "        for b in range(5):\n",
    "            for c in range(5):\n",
    "                try:\n",
    "                    mod = ARIMA(matrix, order=(a,b,c))\n",
    "                    res = mod.fit()\n",
    "                    d.append([res.llf, a, b, c])\n",
    "                except ConvergenceWarning:\n",
    "                    pass\n",
    "\n",
    "    print(d)\n",
    "    return max(d)\n",
    "\n",
    "\n",
    "def predict(matrix, column: str = 'Female_l', age = 65):\n",
    "    fm = matrix.pivot(index=\"Age\", columns=\"Year\", values=column)\n",
    "    fm_train = fm.iloc[:,0:round(np.shape(fm)[1]*2/3)]\n",
    "    # fm_cross_val = fm.iloc[:,round(np.shape(fm)[1]*2/3):]\n",
    "    fm = fm_train\n",
    "    fm = fm.to_numpy()\n",
    "    a_x = fm.mean(axis=1)\n",
    "    N = np.shape(fm)[0]\n",
    "    T = np.shape(fm)[1]\n",
    "    z_xt = fm - np.matlib.repmat(a_x, T, 1).T\n",
    "    U, S, V = np.linalg.svd(z_xt, full_matrices=True)\n",
    "    bxkt = S[0] * np.dot(U[:, 0].reshape(N, 1), V[0, :].reshape(T, 1).T)\n",
    "\n",
    "    b_x = U[:, 0]/U[:, 0].sum()\n",
    "    k_t = V[0, :]*S[0]*U[:, 0].sum()\n",
    "    a_x = a_x + k_t.sum()*b_x\n",
    "    k_t = k_t - k_t.sum()\n",
    "\n",
    "    v, par1, par2, par3 = fit_arima(k_t)\n",
    "    print(f'fit arima: {v, par1,par2,par3}')\n",
    "    mod = ARIMA(k_t, order=(par1,par2,par3))\n",
    "    # mod = ARIMA(k_t, order=(4,1,3))\n",
    "    res = mod.fit()\n",
    "    print(res.summary())\n",
    "\n",
    "    pred = res.forecast(steps=21)\n",
    "    print(pred)\n",
    "    return np.exp(a_x[age] + b_x[age]*pred)"
   ],
   "metadata": {
    "collapsed": false,
    "pycharm": {
     "name": "#%%\n"
    }
   }
  },
  {
   "cell_type": "code",
   "execution_count": 9,
   "outputs": [],
   "source": [
    "age = 65\n",
    "column = 'Female_l'"
   ],
   "metadata": {
    "collapsed": false,
    "pycharm": {
     "name": "#%%\n"
    }
   }
  },
  {
   "cell_type": "code",
   "execution_count": 10,
   "outputs": [
    {
     "name": "stderr",
     "output_type": "stream",
     "text": [
      "C:\\Users\\piotr\\projekty\\diffusion_processes_on_complex_networks\\venv\\lib\\site-packages\\statsmodels\\tsa\\statespace\\sarimax.py:978: UserWarning: Non-invertible starting MA parameters found. Using zeros as starting parameters.\n",
      "  warn('Non-invertible starting MA parameters found.'\n",
      "C:\\Users\\piotr\\projekty\\diffusion_processes_on_complex_networks\\venv\\lib\\site-packages\\statsmodels\\base\\model.py:604: ConvergenceWarning: Maximum Likelihood optimization failed to converge. Check mle_retvals\n",
      "  warnings.warn(\"Maximum Likelihood optimization failed to \"\n",
      "C:\\Users\\piotr\\projekty\\diffusion_processes_on_complex_networks\\venv\\lib\\site-packages\\statsmodels\\base\\model.py:604: ConvergenceWarning: Maximum Likelihood optimization failed to converge. Check mle_retvals\n",
      "  warnings.warn(\"Maximum Likelihood optimization failed to \"\n",
      "C:\\Users\\piotr\\projekty\\diffusion_processes_on_complex_networks\\venv\\lib\\site-packages\\statsmodels\\base\\model.py:604: ConvergenceWarning: Maximum Likelihood optimization failed to converge. Check mle_retvals\n",
      "  warnings.warn(\"Maximum Likelihood optimization failed to \"\n",
      "C:\\Users\\piotr\\projekty\\diffusion_processes_on_complex_networks\\venv\\lib\\site-packages\\statsmodels\\base\\model.py:604: ConvergenceWarning: Maximum Likelihood optimization failed to converge. Check mle_retvals\n",
      "  warnings.warn(\"Maximum Likelihood optimization failed to \"\n",
      "C:\\Users\\piotr\\projekty\\diffusion_processes_on_complex_networks\\venv\\lib\\site-packages\\statsmodels\\tsa\\statespace\\sarimax.py:966: UserWarning: Non-stationary starting autoregressive parameters found. Using zeros as starting parameters.\n",
      "  warn('Non-stationary starting autoregressive parameters'\n",
      "C:\\Users\\piotr\\projekty\\diffusion_processes_on_complex_networks\\venv\\lib\\site-packages\\statsmodels\\base\\model.py:604: ConvergenceWarning: Maximum Likelihood optimization failed to converge. Check mle_retvals\n",
      "  warnings.warn(\"Maximum Likelihood optimization failed to \"\n",
      "C:\\Users\\piotr\\projekty\\diffusion_processes_on_complex_networks\\venv\\lib\\site-packages\\statsmodels\\base\\model.py:604: ConvergenceWarning: Maximum Likelihood optimization failed to converge. Check mle_retvals\n",
      "  warnings.warn(\"Maximum Likelihood optimization failed to \"\n",
      "C:\\Users\\piotr\\projekty\\diffusion_processes_on_complex_networks\\venv\\lib\\site-packages\\statsmodels\\base\\model.py:604: ConvergenceWarning: Maximum Likelihood optimization failed to converge. Check mle_retvals\n",
      "  warnings.warn(\"Maximum Likelihood optimization failed to \"\n",
      "C:\\Users\\piotr\\projekty\\diffusion_processes_on_complex_networks\\venv\\lib\\site-packages\\statsmodels\\base\\model.py:604: ConvergenceWarning: Maximum Likelihood optimization failed to converge. Check mle_retvals\n",
      "  warnings.warn(\"Maximum Likelihood optimization failed to \"\n",
      "C:\\Users\\piotr\\projekty\\diffusion_processes_on_complex_networks\\venv\\lib\\site-packages\\statsmodels\\base\\model.py:604: ConvergenceWarning: Maximum Likelihood optimization failed to converge. Check mle_retvals\n",
      "  warnings.warn(\"Maximum Likelihood optimization failed to \"\n",
      "C:\\Users\\piotr\\projekty\\diffusion_processes_on_complex_networks\\venv\\lib\\site-packages\\statsmodels\\base\\model.py:604: ConvergenceWarning: Maximum Likelihood optimization failed to converge. Check mle_retvals\n",
      "  warnings.warn(\"Maximum Likelihood optimization failed to \"\n",
      "C:\\Users\\piotr\\projekty\\diffusion_processes_on_complex_networks\\venv\\lib\\site-packages\\statsmodels\\base\\model.py:604: ConvergenceWarning: Maximum Likelihood optimization failed to converge. Check mle_retvals\n",
      "  warnings.warn(\"Maximum Likelihood optimization failed to \"\n",
      "C:\\Users\\piotr\\projekty\\diffusion_processes_on_complex_networks\\venv\\lib\\site-packages\\statsmodels\\base\\model.py:604: ConvergenceWarning: Maximum Likelihood optimization failed to converge. Check mle_retvals\n",
      "  warnings.warn(\"Maximum Likelihood optimization failed to \"\n",
      "C:\\Users\\piotr\\projekty\\diffusion_processes_on_complex_networks\\venv\\lib\\site-packages\\statsmodels\\base\\model.py:604: ConvergenceWarning: Maximum Likelihood optimization failed to converge. Check mle_retvals\n",
      "  warnings.warn(\"Maximum Likelihood optimization failed to \"\n",
      "C:\\Users\\piotr\\projekty\\diffusion_processes_on_complex_networks\\venv\\lib\\site-packages\\statsmodels\\base\\model.py:604: ConvergenceWarning: Maximum Likelihood optimization failed to converge. Check mle_retvals\n",
      "  warnings.warn(\"Maximum Likelihood optimization failed to \"\n",
      "C:\\Users\\piotr\\projekty\\diffusion_processes_on_complex_networks\\venv\\lib\\site-packages\\statsmodels\\base\\model.py:604: ConvergenceWarning: Maximum Likelihood optimization failed to converge. Check mle_retvals\n",
      "  warnings.warn(\"Maximum Likelihood optimization failed to \"\n",
      "C:\\Users\\piotr\\projekty\\diffusion_processes_on_complex_networks\\venv\\lib\\site-packages\\statsmodels\\base\\model.py:604: ConvergenceWarning: Maximum Likelihood optimization failed to converge. Check mle_retvals\n",
      "  warnings.warn(\"Maximum Likelihood optimization failed to \"\n",
      "C:\\Users\\piotr\\projekty\\diffusion_processes_on_complex_networks\\venv\\lib\\site-packages\\statsmodels\\base\\model.py:604: ConvergenceWarning: Maximum Likelihood optimization failed to converge. Check mle_retvals\n",
      "  warnings.warn(\"Maximum Likelihood optimization failed to \"\n",
      "C:\\Users\\piotr\\projekty\\diffusion_processes_on_complex_networks\\venv\\lib\\site-packages\\statsmodels\\base\\model.py:604: ConvergenceWarning: Maximum Likelihood optimization failed to converge. Check mle_retvals\n",
      "  warnings.warn(\"Maximum Likelihood optimization failed to \"\n",
      "C:\\Users\\piotr\\projekty\\diffusion_processes_on_complex_networks\\venv\\lib\\site-packages\\statsmodels\\base\\model.py:604: ConvergenceWarning: Maximum Likelihood optimization failed to converge. Check mle_retvals\n",
      "  warnings.warn(\"Maximum Likelihood optimization failed to \"\n",
      "C:\\Users\\piotr\\projekty\\diffusion_processes_on_complex_networks\\venv\\lib\\site-packages\\statsmodels\\base\\model.py:604: ConvergenceWarning: Maximum Likelihood optimization failed to converge. Check mle_retvals\n",
      "  warnings.warn(\"Maximum Likelihood optimization failed to \"\n",
      "C:\\Users\\piotr\\projekty\\diffusion_processes_on_complex_networks\\venv\\lib\\site-packages\\statsmodels\\base\\model.py:604: ConvergenceWarning: Maximum Likelihood optimization failed to converge. Check mle_retvals\n",
      "  warnings.warn(\"Maximum Likelihood optimization failed to \"\n",
      "C:\\Users\\piotr\\projekty\\diffusion_processes_on_complex_networks\\venv\\lib\\site-packages\\statsmodels\\base\\model.py:604: ConvergenceWarning: Maximum Likelihood optimization failed to converge. Check mle_retvals\n",
      "  warnings.warn(\"Maximum Likelihood optimization failed to \"\n",
      "C:\\Users\\piotr\\projekty\\diffusion_processes_on_complex_networks\\venv\\lib\\site-packages\\statsmodels\\base\\model.py:604: ConvergenceWarning: Maximum Likelihood optimization failed to converge. Check mle_retvals\n",
      "  warnings.warn(\"Maximum Likelihood optimization failed to \"\n",
      "C:\\Users\\piotr\\projekty\\diffusion_processes_on_complex_networks\\venv\\lib\\site-packages\\statsmodels\\base\\model.py:604: ConvergenceWarning: Maximum Likelihood optimization failed to converge. Check mle_retvals\n",
      "  warnings.warn(\"Maximum Likelihood optimization failed to \"\n",
      "C:\\Users\\piotr\\projekty\\diffusion_processes_on_complex_networks\\venv\\lib\\site-packages\\statsmodels\\base\\model.py:604: ConvergenceWarning: Maximum Likelihood optimization failed to converge. Check mle_retvals\n",
      "  warnings.warn(\"Maximum Likelihood optimization failed to \"\n"
     ]
    },
    {
     "name": "stdout",
     "output_type": "stream",
     "text": [
      "[[-104.65625823641511, 0, 0, 0], [-84.92318132903239, 0, 0, 1], [-71.71888695126805, 0, 0, 2], [-64.28137744097697, 0, 0, 3], [-62.090577735328424, 0, 0, 4], [-51.55581961764989, 0, 1, 0], [-49.42729319721565, 0, 1, 1], [-48.617718646752316, 0, 1, 2], [-47.35855291132166, 0, 1, 3], [-42.9409300934813, 0, 1, 4], [-53.384812521140105, 0, 2, 0], [-45.619263852667174, 0, 2, 1], [-44.86102243926316, 0, 2, 2], [-43.302111612679134, 0, 2, 3], [-42.57016320075233, 0, 2, 4], [-70.55142465188203, 0, 3, 0], [-54.10725527519992, 0, 3, 1], [-46.810900673081036, 0, 3, 2], [-46.109734913142304, 0, 3, 3], [-44.471934815794015, 0, 3, 4], [-88.16997749310244, 0, 4, 0], [-70.7238929380865, 0, 4, 1], [-56.490509300635296, 0, 4, 2], [-50.86297421615116, 0, 4, 3], [-49.87328197483485, 0, 4, 4], [-54.6208726962884, 1, 0, 0], [-52.42785119776688, 1, 0, 1], [-51.578733031176796, 1, 0, 2], [-50.457843491201245, 1, 0, 3], [-45.94628893049161, 1, 0, 4], [-48.42210429864765, 1, 1, 0], [-46.45048692539604, 1, 1, 1], [-45.38135221910696, 1, 1, 2], [-42.43164252133967, 1, 1, 3], [-41.93110305610647, 1, 1, 4], [-48.74623854968954, 1, 2, 0], [-45.46491841500554, 1, 2, 1], [-44.16354992233739, 1, 2, 2], [-43.151613159687074, 1, 2, 3], [-41.72364797486486, 1, 2, 4], [-61.499835865910455, 1, 3, 0], [-49.90319123381177, 1, 3, 1], [-46.6569869700612, 1, 3, 2], [-45.37340759201466, 1, 3, 3], [-44.3570988860127, 1, 3, 4], [-75.32967122587982, 1, 4, 0], [-62.44111230281674, 1, 4, 1], [-53.030295830281226, 1, 4, 2], [-50.9251770400956, 1, 4, 3], [-50.755511031162165, 1, 4, 4], [-51.33273460611497, 2, 0, 0], [-48.72921985461527, 2, 0, 1], [-48.007848573812566, 2, 0, 2], [-45.178399354532125, 2, 0, 3], [-44.80053933994489, 2, 0, 4], [-47.40080117981201, 2, 1, 0], [-46.30044942266389, 2, 1, 1], [-43.109515181297546, 2, 1, 2], [-42.27801063909815, 2, 1, 3], [-41.91284681366625, 2, 1, 4], [-45.937624469531386, 2, 2, 0], [-44.76177176896759, 2, 2, 1], [-41.318672621208655, 2, 2, 2], [-41.203206347144686, 2, 2, 3], [-40.52615636330502, 2, 2, 4], [-57.037511681871145, 2, 3, 0], [-47.20443245545652, 2, 3, 1], [-45.87021709037852, 2, 3, 2], [-42.545646503400505, 2, 3, 3], [-42.33980794285185, 2, 3, 4], [-70.35103275888385, 2, 4, 0], [-58.500254502434466, 2, 4, 1], [-51.0477769416777, 2, 4, 2], [-49.172391357550104, 2, 4, 3], [-46.7974735334581, 2, 4, 4], [-50.22494188314314, 3, 0, 0], [-48.628221208159715, 3, 0, 1], [-48.626321637045706, 3, 0, 2], [-50.5257408352709, 3, 0, 3], [-44.75144049533509, 3, 0, 4], [-46.307433637282365, 3, 1, 0], [-45.71552424196954, 3, 1, 1], [-45.89205970306196, 3, 1, 2], [-41.79657953072708, 3, 1, 3], [-40.94716202114467, 3, 1, 4], [-43.68801916788832, 3, 2, 0], [-43.68801638894836, 3, 2, 1], [-41.24897446434484, 3, 2, 2], [-40.89199700273965, 3, 2, 3], [-40.51427754677849, 3, 2, 4], [-50.89225337426116, 3, 3, 0], [-44.75590740557166, 3, 3, 1], [-44.74095781150549, 3, 3, 2], [-41.97268231671197, 3, 3, 3], [-41.97023802702891, 3, 3, 4], [-63.695682121639315, 3, 4, 0], [-52.95825416847871, 3, 4, 1], [-48.750128645404324, 3, 4, 2], [-47.09268712559968, 3, 4, 3], [-46.07204261003546, 3, 4, 4], [-48.93080128318463, 4, 0, 0], [-47.93693305376426, 4, 0, 1], [-49.88136502091079, 4, 0, 2], [-48.17258901756375, 4, 0, 3], [-43.52935786307884, 4, 0, 4], [-44.75026944393768, 4, 1, 0], [-44.73974621304858, 4, 1, 1], [-41.976328184717865, 4, 1, 2], [-41.9095565641313, 4, 1, 3], [-40.63586133831415, 4, 1, 4], [-43.688011588452454, 4, 2, 0], [-43.40138115937517, 4, 2, 1], [-40.73660248243058, 4, 2, 2], [-40.89103266383999, 4, 2, 3], [-38.99226281405047, 4, 2, 4], [-44.71310339232607, 4, 3, 0], [-43.754896704688406, 4, 3, 1], [-43.474326031329994, 4, 3, 2], [-42.106481100708876, 4, 3, 3], [-41.92382421446614, 4, 3, 4], [-55.26961426480061, 4, 4, 0], [-47.48718408843814, 4, 4, 1], [-46.857502976759996, 4, 4, 2], [-46.251561059661974, 4, 4, 3], [-46.05782608410824, 4, 4, 4]]\n",
      "fit arima: (-38.99226281405047, 4, 2, 4)\n",
      "                               SARIMAX Results                                \n",
      "==============================================================================\n",
      "Dep. Variable:                      y   No. Observations:                   37\n",
      "Model:                 ARIMA(4, 2, 4)   Log Likelihood                 -38.992\n",
      "Date:                Fri, 10 Jun 2022   AIC                             95.985\n",
      "Time:                        14:51:43   BIC                            109.983\n",
      "Sample:                             0   HQIC                           100.817\n",
      "                                 - 37                                         \n",
      "Covariance Type:                  opg                                         \n",
      "==============================================================================\n",
      "                 coef    std err          z      P>|z|      [0.025      0.975]\n",
      "------------------------------------------------------------------------------\n",
      "ar.L1         -1.3918      0.337     -4.128      0.000      -2.053      -0.731\n",
      "ar.L2         -1.5329      0.420     -3.648      0.000      -2.357      -0.709\n",
      "ar.L3         -1.0281      0.452     -2.276      0.023      -1.914      -0.143\n",
      "ar.L4         -0.6748      0.261     -2.584      0.010      -1.187      -0.163\n",
      "ma.L1          0.5649      1.447      0.390      0.696      -2.272       3.401\n",
      "ma.L2          0.5457      0.940      0.580      0.562      -1.298       2.389\n",
      "ma.L3          0.1897      0.693      0.274      0.784      -1.169       1.549\n",
      "ma.L4          0.7131      1.617      0.441      0.659      -2.456       3.882\n",
      "sigma2         0.4675      0.957      0.488      0.625      -1.409       2.344\n",
      "===================================================================================\n",
      "Ljung-Box (L1) (Q):                   0.03   Jarque-Bera (JB):                 0.65\n",
      "Prob(Q):                              0.86   Prob(JB):                         0.72\n",
      "Heteroskedasticity (H):               1.52   Skew:                            -0.15\n",
      "Prob(H) (two-sided):                  0.48   Kurtosis:                         2.41\n",
      "===================================================================================\n",
      "\n",
      "Warnings:\n",
      "[1] Covariance matrix calculated using the outer product of gradients (complex-step).\n",
      "[ 1.64465123  2.68284855  3.40645887  4.06763196  5.28710149  6.90685215\n",
      "  7.39013971  8.30972119  9.57587998 10.589177   11.74146481 12.43718045\n",
      " 13.58140431 14.82900227 15.62081851 16.73551315 17.69055613 18.77170389\n",
      " 19.89767256 20.7142129  21.87079823]\n"
     ]
    },
    {
     "name": "stderr",
     "output_type": "stream",
     "text": [
      "C:\\Users\\piotr\\projekty\\diffusion_processes_on_complex_networks\\venv\\lib\\site-packages\\statsmodels\\base\\model.py:604: ConvergenceWarning: Maximum Likelihood optimization failed to converge. Check mle_retvals\n",
      "  warnings.warn(\"Maximum Likelihood optimization failed to \"\n"
     ]
    }
   ],
   "source": [
    "vals = predict(mortality, column, age)"
   ],
   "metadata": {
    "collapsed": false,
    "pycharm": {
     "name": "#%%\n"
    }
   }
  },
  {
   "cell_type": "code",
   "execution_count": 11,
   "outputs": [
    {
     "data": {
      "text/plain": "      Year  Age  Female_l\n65    1959   65  0.018629\n176   1960   65  0.019112\n287   1961   65  0.019281\n398   1962   65  0.020495\n509   1963   65  0.019887\n620   1964   65  0.016403\n731   1965   65  0.020985\n842   1966   65  0.018580\n953   1967   65  0.016807\n1064  1968   65  0.017246\n1175  1969   65  0.018053\n1286  1970   65  0.017899\n1397  1971   65  0.017457\n1508  1972   65  0.017723\n1619  1973   65  0.017716\n1730  1974   65  0.016869\n1841  1975   65  0.018112\n1952  1976   65  0.018153\n2063  1977   65  0.017245\n2174  1978   65  0.017517\n2285  1979   65  0.018398\n2396  1980   65  0.018739\n2507  1981   65  0.018539\n2618  1982   65  0.017678\n2729  1983   65  0.018501\n2840  1984   65  0.019895\n2951  1985   65  0.018882\n3062  1986   65  0.018366\n3173  1987   65  0.018596\n3284  1988   65  0.017971\n3395  1989   65  0.018639\n3506  1990   65  0.018040\n3617  1991   65  0.018014\n3728  1992   65  0.018444\n3839  1993   65  0.021328\n3950  1994   65  0.022969\n4061  1995   65  0.021661\n4172  1996   65  0.020303\n4283  1997   65  0.020433\n4394  1998   65  0.019680\n4505  1999   65  0.019887\n4616  2000   65  0.021694\n4727  2001   65  0.021499\n4838  2002   65  0.021833\n4949  2003   65  0.020074\n5060  2004   65  0.020908\n5171  2005   65  0.019546\n5282  2006   65  0.017592\n5393  2007   65  0.018865\n5504  2008   65  0.015578\n5615  2009   65  0.016244\n5726  2010   65  0.016444\n5837  2011   65  0.014543\n5948  2012   65  0.016666\n6059  2013   65  0.013439\n6170  2014   65  0.014894",
      "text/html": "<div>\n<style scoped>\n    .dataframe tbody tr th:only-of-type {\n        vertical-align: middle;\n    }\n\n    .dataframe tbody tr th {\n        vertical-align: top;\n    }\n\n    .dataframe thead th {\n        text-align: right;\n    }\n</style>\n<table border=\"1\" class=\"dataframe\">\n  <thead>\n    <tr style=\"text-align: right;\">\n      <th></th>\n      <th>Year</th>\n      <th>Age</th>\n      <th>Female_l</th>\n    </tr>\n  </thead>\n  <tbody>\n    <tr>\n      <th>65</th>\n      <td>1959</td>\n      <td>65</td>\n      <td>0.018629</td>\n    </tr>\n    <tr>\n      <th>176</th>\n      <td>1960</td>\n      <td>65</td>\n      <td>0.019112</td>\n    </tr>\n    <tr>\n      <th>287</th>\n      <td>1961</td>\n      <td>65</td>\n      <td>0.019281</td>\n    </tr>\n    <tr>\n      <th>398</th>\n      <td>1962</td>\n      <td>65</td>\n      <td>0.020495</td>\n    </tr>\n    <tr>\n      <th>509</th>\n      <td>1963</td>\n      <td>65</td>\n      <td>0.019887</td>\n    </tr>\n    <tr>\n      <th>620</th>\n      <td>1964</td>\n      <td>65</td>\n      <td>0.016403</td>\n    </tr>\n    <tr>\n      <th>731</th>\n      <td>1965</td>\n      <td>65</td>\n      <td>0.020985</td>\n    </tr>\n    <tr>\n      <th>842</th>\n      <td>1966</td>\n      <td>65</td>\n      <td>0.018580</td>\n    </tr>\n    <tr>\n      <th>953</th>\n      <td>1967</td>\n      <td>65</td>\n      <td>0.016807</td>\n    </tr>\n    <tr>\n      <th>1064</th>\n      <td>1968</td>\n      <td>65</td>\n      <td>0.017246</td>\n    </tr>\n    <tr>\n      <th>1175</th>\n      <td>1969</td>\n      <td>65</td>\n      <td>0.018053</td>\n    </tr>\n    <tr>\n      <th>1286</th>\n      <td>1970</td>\n      <td>65</td>\n      <td>0.017899</td>\n    </tr>\n    <tr>\n      <th>1397</th>\n      <td>1971</td>\n      <td>65</td>\n      <td>0.017457</td>\n    </tr>\n    <tr>\n      <th>1508</th>\n      <td>1972</td>\n      <td>65</td>\n      <td>0.017723</td>\n    </tr>\n    <tr>\n      <th>1619</th>\n      <td>1973</td>\n      <td>65</td>\n      <td>0.017716</td>\n    </tr>\n    <tr>\n      <th>1730</th>\n      <td>1974</td>\n      <td>65</td>\n      <td>0.016869</td>\n    </tr>\n    <tr>\n      <th>1841</th>\n      <td>1975</td>\n      <td>65</td>\n      <td>0.018112</td>\n    </tr>\n    <tr>\n      <th>1952</th>\n      <td>1976</td>\n      <td>65</td>\n      <td>0.018153</td>\n    </tr>\n    <tr>\n      <th>2063</th>\n      <td>1977</td>\n      <td>65</td>\n      <td>0.017245</td>\n    </tr>\n    <tr>\n      <th>2174</th>\n      <td>1978</td>\n      <td>65</td>\n      <td>0.017517</td>\n    </tr>\n    <tr>\n      <th>2285</th>\n      <td>1979</td>\n      <td>65</td>\n      <td>0.018398</td>\n    </tr>\n    <tr>\n      <th>2396</th>\n      <td>1980</td>\n      <td>65</td>\n      <td>0.018739</td>\n    </tr>\n    <tr>\n      <th>2507</th>\n      <td>1981</td>\n      <td>65</td>\n      <td>0.018539</td>\n    </tr>\n    <tr>\n      <th>2618</th>\n      <td>1982</td>\n      <td>65</td>\n      <td>0.017678</td>\n    </tr>\n    <tr>\n      <th>2729</th>\n      <td>1983</td>\n      <td>65</td>\n      <td>0.018501</td>\n    </tr>\n    <tr>\n      <th>2840</th>\n      <td>1984</td>\n      <td>65</td>\n      <td>0.019895</td>\n    </tr>\n    <tr>\n      <th>2951</th>\n      <td>1985</td>\n      <td>65</td>\n      <td>0.018882</td>\n    </tr>\n    <tr>\n      <th>3062</th>\n      <td>1986</td>\n      <td>65</td>\n      <td>0.018366</td>\n    </tr>\n    <tr>\n      <th>3173</th>\n      <td>1987</td>\n      <td>65</td>\n      <td>0.018596</td>\n    </tr>\n    <tr>\n      <th>3284</th>\n      <td>1988</td>\n      <td>65</td>\n      <td>0.017971</td>\n    </tr>\n    <tr>\n      <th>3395</th>\n      <td>1989</td>\n      <td>65</td>\n      <td>0.018639</td>\n    </tr>\n    <tr>\n      <th>3506</th>\n      <td>1990</td>\n      <td>65</td>\n      <td>0.018040</td>\n    </tr>\n    <tr>\n      <th>3617</th>\n      <td>1991</td>\n      <td>65</td>\n      <td>0.018014</td>\n    </tr>\n    <tr>\n      <th>3728</th>\n      <td>1992</td>\n      <td>65</td>\n      <td>0.018444</td>\n    </tr>\n    <tr>\n      <th>3839</th>\n      <td>1993</td>\n      <td>65</td>\n      <td>0.021328</td>\n    </tr>\n    <tr>\n      <th>3950</th>\n      <td>1994</td>\n      <td>65</td>\n      <td>0.022969</td>\n    </tr>\n    <tr>\n      <th>4061</th>\n      <td>1995</td>\n      <td>65</td>\n      <td>0.021661</td>\n    </tr>\n    <tr>\n      <th>4172</th>\n      <td>1996</td>\n      <td>65</td>\n      <td>0.020303</td>\n    </tr>\n    <tr>\n      <th>4283</th>\n      <td>1997</td>\n      <td>65</td>\n      <td>0.020433</td>\n    </tr>\n    <tr>\n      <th>4394</th>\n      <td>1998</td>\n      <td>65</td>\n      <td>0.019680</td>\n    </tr>\n    <tr>\n      <th>4505</th>\n      <td>1999</td>\n      <td>65</td>\n      <td>0.019887</td>\n    </tr>\n    <tr>\n      <th>4616</th>\n      <td>2000</td>\n      <td>65</td>\n      <td>0.021694</td>\n    </tr>\n    <tr>\n      <th>4727</th>\n      <td>2001</td>\n      <td>65</td>\n      <td>0.021499</td>\n    </tr>\n    <tr>\n      <th>4838</th>\n      <td>2002</td>\n      <td>65</td>\n      <td>0.021833</td>\n    </tr>\n    <tr>\n      <th>4949</th>\n      <td>2003</td>\n      <td>65</td>\n      <td>0.020074</td>\n    </tr>\n    <tr>\n      <th>5060</th>\n      <td>2004</td>\n      <td>65</td>\n      <td>0.020908</td>\n    </tr>\n    <tr>\n      <th>5171</th>\n      <td>2005</td>\n      <td>65</td>\n      <td>0.019546</td>\n    </tr>\n    <tr>\n      <th>5282</th>\n      <td>2006</td>\n      <td>65</td>\n      <td>0.017592</td>\n    </tr>\n    <tr>\n      <th>5393</th>\n      <td>2007</td>\n      <td>65</td>\n      <td>0.018865</td>\n    </tr>\n    <tr>\n      <th>5504</th>\n      <td>2008</td>\n      <td>65</td>\n      <td>0.015578</td>\n    </tr>\n    <tr>\n      <th>5615</th>\n      <td>2009</td>\n      <td>65</td>\n      <td>0.016244</td>\n    </tr>\n    <tr>\n      <th>5726</th>\n      <td>2010</td>\n      <td>65</td>\n      <td>0.016444</td>\n    </tr>\n    <tr>\n      <th>5837</th>\n      <td>2011</td>\n      <td>65</td>\n      <td>0.014543</td>\n    </tr>\n    <tr>\n      <th>5948</th>\n      <td>2012</td>\n      <td>65</td>\n      <td>0.016666</td>\n    </tr>\n    <tr>\n      <th>6059</th>\n      <td>2013</td>\n      <td>65</td>\n      <td>0.013439</td>\n    </tr>\n    <tr>\n      <th>6170</th>\n      <td>2014</td>\n      <td>65</td>\n      <td>0.014894</td>\n    </tr>\n  </tbody>\n</table>\n</div>"
     },
     "execution_count": 11,
     "metadata": {},
     "output_type": "execute_result"
    }
   ],
   "source": [
    "real_vals = mortality[mortality['Age']==age][['Year','Age',column]]\n",
    "real_vals[column] = real_vals[column].apply(lambda x: np.exp(x))\n",
    "real_vals"
   ],
   "metadata": {
    "collapsed": false,
    "pycharm": {
     "name": "#%%\n"
    }
   }
  },
  {
   "cell_type": "code",
   "execution_count": 12,
   "outputs": [
    {
     "data": {
      "text/plain": "<Figure size 720x360 with 1 Axes>",
      "image/png": "[encoded data removed]"
     },
     "metadata": {
      "needs_background": "light"
     },
     "output_type": "display_data"
    }
   ],
   "source": [
    "plt.figure(figsize=(10,5))\n",
    "plt.scatter(real_vals['Year'], real_vals[column], label = 'real values')\n",
    "plt.scatter(np.arange(1999,2020,1), vals, label='prediction')\n",
    "plt.xlabel('year')\n",
    "plt.ylabel('mortality')\n",
    "plt.legend()\n",
    "plt.savefig('figure.svg')"
   ],
   "metadata": {
    "collapsed": false,
    "pycharm": {
     "name": "#%%\n"
    }
   }
  },
  {
   "cell_type": "code",
   "execution_count": 43,
   "outputs": [],
   "source": [
    "# jak cos nie styka\n",
    "# split train test\n",
    "def fit_arima_error(matrix):\n",
    "    d = []\n",
    "    for a in range(5):\n",
    "        for b in range(2):\n",
    "            for c in range(5):\n",
    "                try:\n",
    "                    mod = ARIMA(matrix, order=(a,b,c))\n",
    "                    res = mod.fit()\n",
    "                    d.append([res.llf, a, b, c])\n",
    "                except ConvergenceWarning:\n",
    "                    pass\n",
    "    return d\n",
    "\n",
    "\n",
    "def predict_error(matrix, column: str = 'Female_l', age = 65):\n",
    "    fm = matrix.pivot(index=\"Age\", columns=\"Year\", values=column)\n",
    "    fm_train = fm.iloc[:,0:round(np.shape(fm)[1]*2/3)]\n",
    "    # fm_cross_val = fm.iloc[:,round(np.shape(fm)[1]*2/3):]\n",
    "    fm = fm_train\n",
    "    fm = fm.to_numpy()\n",
    "    a_x = fm.mean(axis=1)\n",
    "    N = np.shape(fm)[0]\n",
    "    T = np.shape(fm)[1]\n",
    "    z_xt = fm - np.matlib.repmat(a_x, T, 1).T\n",
    "    U, S, V = np.linalg.svd(z_xt, full_matrices=True)\n",
    "    bxkt = S[0] * np.dot(U[:, 0].reshape(N, 1), V[0, :].reshape(T, 1).T)\n",
    "\n",
    "    b_x = U[:, 0]/U[:, 0].sum()\n",
    "    k_t = V[0, :]*S[0]*U[:, 0].sum()\n",
    "    a_x = a_x + k_t.sum()*b_x\n",
    "    k_t = k_t - k_t.sum()\n",
    "\n",
    "    d = fit_arima_error(k_t)\n",
    "    for d_i in d:\n",
    "        mod = ARIMA(k_t, order=(d_i[1],d_i[2],d_i[3]))\n",
    "        # mod = ARIMA(k_t, order=(4,1,3))\n",
    "        res = mod.fit()\n",
    "        pred = res.forecast(steps=21)\n",
    "        real_vals = mortality[mortality['Age']==age][['Year','Age',column]]\n",
    "        real_vals[column] = real_vals[column].apply(lambda x: np.exp(x))\n",
    "\n",
    "\n",
    "        plt.figure(figsize=(10,5))\n",
    "        plt.scatter(real_vals['Year'], real_vals[column], label = 'real values')\n",
    "        plt.scatter(np.arange(1999,2020,1), vals, label='prediction')\n",
    "        plt.xlabel('year')\n",
    "        plt.ylabel('mortality')\n",
    "        plt.legend()\n",
    "        plt.show()\n"
   ],
   "metadata": {
    "collapsed": false,
    "pycharm": {
     "name": "#%%\n"
    }
   }
  },
  {
   "cell_type": "code",
   "execution_count": 45,
   "outputs": [],
   "source": [
    "age = 65\n",
    "column = 'Male_l'\n",
    "# vals = predict_error(mortality, column, age)\n"
   ],
   "metadata": {
    "collapsed": false,
    "pycharm": {
     "name": "#%%\n"
    }
   }
  },
  {
   "cell_type": "markdown",
   "source": [],
   "metadata": {
    "collapsed": false
   }
  },
  {
   "cell_type": "code",
   "execution_count": 49,
   "outputs": [
    {
     "name": "stderr",
     "output_type": "stream",
     "text": [
      "C:\\Users\\piotr\\projekty\\diffusion_processes_on_complex_networks\\venv\\lib\\site-packages\\statsmodels\\tsa\\statespace\\sarimax.py:978: UserWarning: Non-invertible starting MA parameters found. Using zeros as starting parameters.\n",
      "  warn('Non-invertible starting MA parameters found.'\n",
      "C:\\Users\\piotr\\projekty\\diffusion_processes_on_complex_networks\\venv\\lib\\site-packages\\statsmodels\\base\\model.py:604: ConvergenceWarning: Maximum Likelihood optimization failed to converge. Check mle_retvals\n",
      "  warnings.warn(\"Maximum Likelihood optimization failed to \"\n",
      "C:\\Users\\piotr\\projekty\\diffusion_processes_on_complex_networks\\venv\\lib\\site-packages\\statsmodels\\base\\model.py:604: ConvergenceWarning: Maximum Likelihood optimization failed to converge. Check mle_retvals\n",
      "  warnings.warn(\"Maximum Likelihood optimization failed to \"\n",
      "C:\\Users\\piotr\\projekty\\diffusion_processes_on_complex_networks\\venv\\lib\\site-packages\\statsmodels\\tsa\\statespace\\sarimax.py:966: UserWarning: Non-stationary starting autoregressive parameters found. Using zeros as starting parameters.\n",
      "  warn('Non-stationary starting autoregressive parameters'\n",
      "C:\\Users\\piotr\\projekty\\diffusion_processes_on_complex_networks\\venv\\lib\\site-packages\\statsmodels\\base\\model.py:604: ConvergenceWarning: Maximum Likelihood optimization failed to converge. Check mle_retvals\n",
      "  warnings.warn(\"Maximum Likelihood optimization failed to \"\n",
      "C:\\Users\\piotr\\projekty\\diffusion_processes_on_complex_networks\\venv\\lib\\site-packages\\statsmodels\\base\\model.py:604: ConvergenceWarning: Maximum Likelihood optimization failed to converge. Check mle_retvals\n",
      "  warnings.warn(\"Maximum Likelihood optimization failed to \"\n",
      "C:\\Users\\piotr\\projekty\\diffusion_processes_on_complex_networks\\venv\\lib\\site-packages\\statsmodels\\base\\model.py:604: ConvergenceWarning: Maximum Likelihood optimization failed to converge. Check mle_retvals\n",
      "  warnings.warn(\"Maximum Likelihood optimization failed to \"\n",
      "C:\\Users\\piotr\\projekty\\diffusion_processes_on_complex_networks\\venv\\lib\\site-packages\\statsmodels\\base\\model.py:604: ConvergenceWarning: Maximum Likelihood optimization failed to converge. Check mle_retvals\n",
      "  warnings.warn(\"Maximum Likelihood optimization failed to \"\n",
      "C:\\Users\\piotr\\projekty\\diffusion_processes_on_complex_networks\\venv\\lib\\site-packages\\statsmodels\\base\\model.py:604: ConvergenceWarning: Maximum Likelihood optimization failed to converge. Check mle_retvals\n",
      "  warnings.warn(\"Maximum Likelihood optimization failed to \"\n",
      "C:\\Users\\piotr\\projekty\\diffusion_processes_on_complex_networks\\venv\\lib\\site-packages\\statsmodels\\base\\model.py:604: ConvergenceWarning: Maximum Likelihood optimization failed to converge. Check mle_retvals\n",
      "  warnings.warn(\"Maximum Likelihood optimization failed to \"\n",
      "C:\\Users\\piotr\\projekty\\diffusion_processes_on_complex_networks\\venv\\lib\\site-packages\\statsmodels\\base\\model.py:604: ConvergenceWarning: Maximum Likelihood optimization failed to converge. Check mle_retvals\n",
      "  warnings.warn(\"Maximum Likelihood optimization failed to \"\n",
      "C:\\Users\\piotr\\projekty\\diffusion_processes_on_complex_networks\\venv\\lib\\site-packages\\statsmodels\\base\\model.py:604: ConvergenceWarning: Maximum Likelihood optimization failed to converge. Check mle_retvals\n",
      "  warnings.warn(\"Maximum Likelihood optimization failed to \"\n",
      "C:\\Users\\piotr\\projekty\\diffusion_processes_on_complex_networks\\venv\\lib\\site-packages\\statsmodels\\base\\model.py:604: ConvergenceWarning: Maximum Likelihood optimization failed to converge. Check mle_retvals\n",
      "  warnings.warn(\"Maximum Likelihood optimization failed to \"\n",
      "C:\\Users\\piotr\\projekty\\diffusion_processes_on_complex_networks\\venv\\lib\\site-packages\\statsmodels\\base\\model.py:604: ConvergenceWarning: Maximum Likelihood optimization failed to converge. Check mle_retvals\n",
      "  warnings.warn(\"Maximum Likelihood optimization failed to \"\n",
      "C:\\Users\\piotr\\projekty\\diffusion_processes_on_complex_networks\\venv\\lib\\site-packages\\statsmodels\\base\\model.py:604: ConvergenceWarning: Maximum Likelihood optimization failed to converge. Check mle_retvals\n",
      "  warnings.warn(\"Maximum Likelihood optimization failed to \"\n",
      "C:\\Users\\piotr\\projekty\\diffusion_processes_on_complex_networks\\venv\\lib\\site-packages\\statsmodels\\base\\model.py:604: ConvergenceWarning: Maximum Likelihood optimization failed to converge. Check mle_retvals\n",
      "  warnings.warn(\"Maximum Likelihood optimization failed to \"\n",
      "C:\\Users\\piotr\\projekty\\diffusion_processes_on_complex_networks\\venv\\lib\\site-packages\\statsmodels\\base\\model.py:604: ConvergenceWarning: Maximum Likelihood optimization failed to converge. Check mle_retvals\n",
      "  warnings.warn(\"Maximum Likelihood optimization failed to \"\n",
      "C:\\Users\\piotr\\projekty\\diffusion_processes_on_complex_networks\\venv\\lib\\site-packages\\statsmodels\\base\\model.py:604: ConvergenceWarning: Maximum Likelihood optimization failed to converge. Check mle_retvals\n",
      "  warnings.warn(\"Maximum Likelihood optimization failed to \"\n",
      "C:\\Users\\piotr\\projekty\\diffusion_processes_on_complex_networks\\venv\\lib\\site-packages\\statsmodels\\base\\model.py:604: ConvergenceWarning: Maximum Likelihood optimization failed to converge. Check mle_retvals\n",
      "  warnings.warn(\"Maximum Likelihood optimization failed to \"\n",
      "C:\\Users\\piotr\\projekty\\diffusion_processes_on_complex_networks\\venv\\lib\\site-packages\\statsmodels\\base\\model.py:604: ConvergenceWarning: Maximum Likelihood optimization failed to converge. Check mle_retvals\n",
      "  warnings.warn(\"Maximum Likelihood optimization failed to \"\n",
      "C:\\Users\\piotr\\projekty\\diffusion_processes_on_complex_networks\\venv\\lib\\site-packages\\statsmodels\\base\\model.py:604: ConvergenceWarning: Maximum Likelihood optimization failed to converge. Check mle_retvals\n",
      "  warnings.warn(\"Maximum Likelihood optimization failed to \"\n",
      "C:\\Users\\piotr\\projekty\\diffusion_processes_on_complex_networks\\venv\\lib\\site-packages\\statsmodels\\base\\model.py:604: ConvergenceWarning: Maximum Likelihood optimization failed to converge. Check mle_retvals\n",
      "  warnings.warn(\"Maximum Likelihood optimization failed to \"\n",
      "C:\\Users\\piotr\\projekty\\diffusion_processes_on_complex_networks\\venv\\lib\\site-packages\\statsmodels\\base\\model.py:604: ConvergenceWarning: Maximum Likelihood optimization failed to converge. Check mle_retvals\n",
      "  warnings.warn(\"Maximum Likelihood optimization failed to \"\n",
      "C:\\Users\\piotr\\projekty\\diffusion_processes_on_complex_networks\\venv\\lib\\site-packages\\statsmodels\\base\\model.py:604: ConvergenceWarning: Maximum Likelihood optimization failed to converge. Check mle_retvals\n",
      "  warnings.warn(\"Maximum Likelihood optimization failed to \"\n",
      "C:\\Users\\piotr\\projekty\\diffusion_processes_on_complex_networks\\venv\\lib\\site-packages\\statsmodels\\base\\model.py:604: ConvergenceWarning: Maximum Likelihood optimization failed to converge. Check mle_retvals\n",
      "  warnings.warn(\"Maximum Likelihood optimization failed to \"\n",
      "C:\\Users\\piotr\\projekty\\diffusion_processes_on_complex_networks\\venv\\lib\\site-packages\\statsmodels\\base\\model.py:604: ConvergenceWarning: Maximum Likelihood optimization failed to converge. Check mle_retvals\n",
      "  warnings.warn(\"Maximum Likelihood optimization failed to \"\n",
      "C:\\Users\\piotr\\projekty\\diffusion_processes_on_complex_networks\\venv\\lib\\site-packages\\statsmodels\\base\\model.py:604: ConvergenceWarning: Maximum Likelihood optimization failed to converge. Check mle_retvals\n",
      "  warnings.warn(\"Maximum Likelihood optimization failed to \"\n",
      "C:\\Users\\piotr\\projekty\\diffusion_processes_on_complex_networks\\venv\\lib\\site-packages\\statsmodels\\base\\model.py:604: ConvergenceWarning: Maximum Likelihood optimization failed to converge. Check mle_retvals\n",
      "  warnings.warn(\"Maximum Likelihood optimization failed to \"\n",
      "C:\\Users\\piotr\\projekty\\diffusion_processes_on_complex_networks\\venv\\lib\\site-packages\\statsmodels\\base\\model.py:604: ConvergenceWarning: Maximum Likelihood optimization failed to converge. Check mle_retvals\n",
      "  warnings.warn(\"Maximum Likelihood optimization failed to \"\n",
      "C:\\Users\\piotr\\projekty\\diffusion_processes_on_complex_networks\\venv\\lib\\site-packages\\statsmodels\\base\\model.py:604: ConvergenceWarning: Maximum Likelihood optimization failed to converge. Check mle_retvals\n",
      "  warnings.warn(\"Maximum Likelihood optimization failed to \"\n",
      "C:\\Users\\piotr\\projekty\\diffusion_processes_on_complex_networks\\venv\\lib\\site-packages\\statsmodels\\base\\model.py:604: ConvergenceWarning: Maximum Likelihood optimization failed to converge. Check mle_retvals\n",
      "  warnings.warn(\"Maximum Likelihood optimization failed to \"\n",
      "C:\\Users\\piotr\\projekty\\diffusion_processes_on_complex_networks\\venv\\lib\\site-packages\\statsmodels\\base\\model.py:604: ConvergenceWarning: Maximum Likelihood optimization failed to converge. Check mle_retvals\n",
      "  warnings.warn(\"Maximum Likelihood optimization failed to \"\n",
      "C:\\Users\\piotr\\projekty\\diffusion_processes_on_complex_networks\\venv\\lib\\site-packages\\statsmodels\\base\\model.py:604: ConvergenceWarning: Maximum Likelihood optimization failed to converge. Check mle_retvals\n",
      "  warnings.warn(\"Maximum Likelihood optimization failed to \"\n",
      "C:\\Users\\piotr\\projekty\\diffusion_processes_on_complex_networks\\venv\\lib\\site-packages\\statsmodels\\base\\model.py:604: ConvergenceWarning: Maximum Likelihood optimization failed to converge. Check mle_retvals\n",
      "  warnings.warn(\"Maximum Likelihood optimization failed to \"\n",
      "C:\\Users\\piotr\\projekty\\diffusion_processes_on_complex_networks\\venv\\lib\\site-packages\\statsmodels\\base\\model.py:604: ConvergenceWarning: Maximum Likelihood optimization failed to converge. Check mle_retvals\n",
      "  warnings.warn(\"Maximum Likelihood optimization failed to \"\n",
      "C:\\Users\\piotr\\projekty\\diffusion_processes_on_complex_networks\\venv\\lib\\site-packages\\statsmodels\\base\\model.py:604: ConvergenceWarning: Maximum Likelihood optimization failed to converge. Check mle_retvals\n",
      "  warnings.warn(\"Maximum Likelihood optimization failed to \"\n",
      "C:\\Users\\piotr\\projekty\\diffusion_processes_on_complex_networks\\venv\\lib\\site-packages\\statsmodels\\base\\model.py:604: ConvergenceWarning: Maximum Likelihood optimization failed to converge. Check mle_retvals\n",
      "  warnings.warn(\"Maximum Likelihood optimization failed to \"\n"
     ]
    },
    {
     "name": "stdout",
     "output_type": "stream",
     "text": [
      "[[-167.66312422766316, 0, 0, 0], [-146.54780936972588, 0, 0, 1], [-131.07980055411736, 0, 0, 2], [-123.03094701275066, 0, 0, 3], [-116.17355552968321, 0, 0, 4], [-98.06883778698668, 0, 1, 0], [-98.0477183529452, 0, 1, 1], [-94.55069142801155, 0, 1, 2], [-94.51979041612194, 0, 1, 3], [-94.34236811942102, 0, 1, 4], [-108.57453425561125, 0, 2, 0], [-91.91319451336196, 0, 2, 1], [-89.87083897740841, 0, 2, 2], [-89.63249961162501, 0, 2, 3], [-87.47426810467041, 0, 2, 4], [-127.69830351869885, 0, 3, 0], [-108.10697993927418, 0, 3, 1], [-92.31865984834232, 0, 3, 2], [-89.7716625478964, 0, 3, 3], [-89.56875032950038, 0, 3, 4], [-146.23114118428163, 0, 4, 0], [-126.61336760018484, 0, 4, 1], [-109.10587577739037, 0, 4, 2], [-95.22265117933708, 0, 4, 3], [-92.73060757228357, 0, 4, 4], [-102.7671265222081, 1, 0, 0], [-102.74158404970736, 1, 0, 1], [-99.30086039773595, 1, 0, 2], [-99.26930803716407, 1, 0, 3], [-99.12844982165183, 1, 0, 4], [-98.03366636069154, 1, 1, 0], [-93.7039321539181, 1, 1, 1], [-94.50207438481468, 1, 1, 2], [-91.53247070015686, 1, 1, 3], [-89.877039507364, 1, 1, 4], [-94.74171443939733, 1, 2, 0], [-89.45022758535599, 1, 2, 1], [-89.40049840438678, 1, 2, 2], [-89.23602968355087, 1, 2, 3], [-87.03057649677272, 1, 2, 4], [-109.86697644399489, 1, 3, 0], [-95.19832919973138, 1, 3, 1], [-89.31298965354947, 1, 3, 2], [-89.22291499959371, 1, 3, 3], [-89.03708133455945, 1, 3, 4], [-125.94759319604742, 1, 4, 0], [-109.89833352582009, 1, 4, 1], [-97.18107204255617, 1, 4, 2], [-92.28819460250205, 1, 4, 3], [-92.20258929493238, 1, 4, 4], [-102.72445930909338, 2, 0, 0], [-102.45483908523336, 2, 0, 1], [-99.2540002284, 2, 0, 2], [-99.27479256049396, 2, 0, 3], [-99.1751447549309, 2, 0, 4], [-94.42084873138836, 2, 1, 0], [-91.53556023906441, 2, 1, 1], [-91.46956275769867, 2, 1, 2], [-91.20550923435641, 2, 1, 3], [-91.3562519129376, 2, 1, 4], [-92.05759566763359, 2, 2, 0], [-89.38707817485871, 2, 2, 1], [-89.38704079531531, 2, 2, 2], [-88.33179205863811, 2, 2, 3], [-87.63878375297448, 2, 2, 4], [-100.30241643542674, 2, 3, 0], [-92.84790591664454, 2, 3, 1], [-92.86473672246468, 2, 3, 2], [-89.16803118043636, 2, 3, 3], [-87.72512511992043, 2, 3, 4], [-112.26520294546836, 2, 4, 0], [-101.10339386485704, 2, 4, 1], [-95.11753905594533, 2, 4, 2], [-95.05477065240116, 2, 4, 3], [-92.15478033382608, 2, 4, 4], [-99.17938960977568, 3, 0, 0], [-96.69781013399498, 3, 0, 1], [-96.70608660307286, 3, 0, 2], [-98.94799525335122, 3, 0, 3], [-98.89367478741632, 3, 0, 4], [-93.27942817171353, 3, 1, 0], [-91.44236106456475, 3, 1, 1], [-91.38587486476749, 3, 1, 2], [-89.85427870301548, 3, 1, 3], [-89.72091707422798, 3, 1, 4], [-91.9962837531187, 3, 2, 0], [-89.38672713269551, 3, 2, 1], [-89.09324576801001, 3, 2, 2], [-87.6230989793212, 3, 2, 3], [-86.48654937988898, 3, 2, 4], [-99.59981266517184, 3, 3, 0], [-92.83225125365104, 3, 3, 1], [-92.75476577837226, 3, 3, 2], [-91.99446864083936, 3, 3, 3], [-87.41797745640365, 3, 3, 4], [-108.67022185996298, 3, 4, 0], [-100.57895284208298, 3, 4, 1], [-95.64946684224918, 3, 4, 2], [-95.66371598090437, 3, 4, 3], [-94.09008246528381, 3, 4, 4], [-98.11633322243712, 4, 0, 0], [-96.284797101289, 4, 0, 1], [-96.6283935802618, 4, 0, 2], [-98.76447007363981, 4, 0, 3], [-94.9194052345711, 4, 0, 4], [-93.27939312609988, 4, 1, 0], [-91.43610575001549, 4, 1, 1], [-91.33207850070494, 4, 1, 2], [-89.68861794480802, 4, 1, 3], [-89.90961970304225, 4, 1, 4], [-89.77901180437604, 4, 2, 0], [-87.6892268294694, 4, 2, 1], [-85.71321241809787, 4, 2, 2], [-85.58330520621512, 4, 2, 3], [-86.25697538497728, 4, 2, 4], [-98.37733276457952, 4, 3, 0], [-90.92659736036673, 4, 3, 1], [-87.36772724882502, 4, 3, 2], [-90.98623858393908, 4, 3, 3], [-87.01611028947751, 4, 3, 4], [-107.45958211165244, 4, 4, 0], [-99.62146969940422, 4, 4, 1], [-93.31791961712916, 4, 4, 2], [-98.72331521216567, 4, 4, 3], [-93.28899271322827, 4, 4, 4]]\n",
      "fit arima: (-85.58330520621512, 4, 2, 3)\n"
     ]
    },
    {
     "name": "stderr",
     "output_type": "stream",
     "text": [
      "C:\\Users\\piotr\\projekty\\diffusion_processes_on_complex_networks\\venv\\lib\\site-packages\\statsmodels\\base\\model.py:604: ConvergenceWarning: Maximum Likelihood optimization failed to converge. Check mle_retvals\n",
      "  warnings.warn(\"Maximum Likelihood optimization failed to \"\n"
     ]
    },
    {
     "name": "stdout",
     "output_type": "stream",
     "text": [
      "                               SARIMAX Results                                \n",
      "==============================================================================\n",
      "Dep. Variable:                      y   No. Observations:                   41\n",
      "Model:                 ARIMA(4, 2, 3)   Log Likelihood                 -85.583\n",
      "Date:                Fri, 10 Jun 2022   AIC                            187.167\n",
      "Time:                        14:47:25   BIC                            200.475\n",
      "Sample:                             0   HQIC                           191.942\n",
      "                                 - 41                                         \n",
      "Covariance Type:                  opg                                         \n",
      "==============================================================================\n",
      "                 coef    std err          z      P>|z|      [0.025      0.975]\n",
      "------------------------------------------------------------------------------\n",
      "ar.L1         -0.0124      0.373     -0.033      0.973      -0.743       0.718\n",
      "ar.L2         -0.0906      0.213     -0.426      0.670      -0.508       0.327\n",
      "ar.L3         -0.5726      0.120     -4.768      0.000      -0.808      -0.337\n",
      "ar.L4         -0.5198      0.297     -1.751      0.080      -1.102       0.062\n",
      "ma.L1         -1.3372      1.360     -0.984      0.325      -4.002       1.327\n",
      "ma.L2          1.0940      2.305      0.475      0.635      -3.424       5.612\n",
      "ma.L3         -0.0839      0.562     -0.149      0.881      -1.186       1.019\n",
      "sigma2         3.9728      7.905      0.503      0.615     -11.521      19.467\n",
      "===================================================================================\n",
      "Ljung-Box (L1) (Q):                   0.33   Jarque-Bera (JB):                 0.97\n",
      "Prob(Q):                              0.57   Prob(JB):                         0.62\n",
      "Heteroskedasticity (H):               0.51   Skew:                             0.05\n",
      "Prob(H) (two-sided):                  0.23   Kurtosis:                         3.76\n",
      "===================================================================================\n",
      "\n",
      "Warnings:\n",
      "[1] Covariance matrix calculated using the outer product of gradients (complex-step).\n",
      "[-28.97026425 -32.24440065 -34.55016702 -36.11078997 -37.33428215\n",
      " -39.36039786 -42.33716167 -45.80982423 -48.90585645 -51.0000566\n",
      " -52.3626684  -53.78299783 -56.03834055 -59.21779561 -62.6573915\n",
      " -65.50189408 -67.36698476 -68.66879597 -70.2718555  -72.79238314\n",
      " -76.10590825]\n"
     ]
    },
    {
     "data": {
      "text/plain": "<Figure size 720x360 with 1 Axes>",
      "image/png": "[encoded data removed]"
     },
     "metadata": {
      "needs_background": "light"
     },
     "output_type": "display_data"
    }
   ],
   "source": [
    "age = 20\n",
    "column = 'Male_l'\n",
    "vals = predict(mortality, column, age)\n",
    "real_vals = mortality[mortality['Age']==age][['Year','Age',column]]\n",
    "real_vals[column] = real_vals[column].apply(lambda x: np.exp(x))\n",
    "plt.figure(figsize=(10,5))\n",
    "plt.scatter(real_vals['Year'], real_vals[column], label = 'real values')\n",
    "plt.scatter(np.arange(1999,2020,1), vals, label='prediction')\n",
    "plt.xlabel('year')\n",
    "plt.ylabel('mortality')\n",
    "plt.legend()\n",
    "plt.savefig('figure.svg')"
   ],
   "metadata": {
    "collapsed": false,
    "pycharm": {
     "name": "#%%\n"
    }
   }
  },
  {
   "cell_type": "code",
   "execution_count": null,
   "outputs": [],
   "source": [],
   "metadata": {
    "collapsed": false,
    "pycharm": {
     "name": "#%%\n"
    }
   }
  }
 ],
 "metadata": {
  "kernelspec": {
   "display_name": "Python 3",
   "language": "python",
   "name": "python3"
  },
  "language_info": {
   "codemirror_mode": {
    "name": "ipython",
    "version": 2
   },
   "file_extension": ".py",
   "mimetype": "text/x-python",
   "name": "python",
   "nbconvert_exporter": "python",
   "pygments_lexer": "ipython2",
   "version": "2.7.6"
  }
 },
 "nbformat": 4,
 "nbformat_minor": 0
}