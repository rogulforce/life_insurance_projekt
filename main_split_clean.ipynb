{
 "cells": [
  {
   "cell_type": "code",
   "execution_count": 1,
   "metadata": {
    "collapsed": true
   },
   "outputs": [],
   "source": [
    "# from leecarter import leecarter\n",
    "import pandas as pd\n",
    "from tqdm import tqdm\n",
    "import numpy.matlib\n",
    "\n",
    "import numpy as np\n",
    "from matplotlib import pyplot as plt\n",
    "\n",
    "from statsmodels.tsa.arima.model import ARIMA\n",
    "\n",
    "import warnings\n",
    "from statsmodels.tools.sm_exceptions import ConvergenceWarning\n",
    "warnings.simplefilter('ignore', ConvergenceWarning)\n",
    "warnings.simplefilter('ignore', UserWarning)"
   ]
  },
  {
   "cell_type": "code",
   "execution_count": 2,
   "metadata": {},
   "outputs": [],
   "source": [
    "Image_width = 10\n",
    "plt.rc('text', usetex = True) # latex ticks\n",
    "plt.rc('text.latex')\n",
    "plt.rcParams['axes.unicode_minus'] = False\n",
    "plt.rcParams.update({\n",
    "    \"text.usetex\": True,\n",
    "    \"font.family\": \"serif\",\n",
    "    \"font.serif\": ['Computer Modern'],\n",
    "})\n",
    "\n",
    "EXTRA_SMALL = 10\n",
    "SMALL_SIZE = 15\n",
    "MEDIUM_SIZE = 20\n",
    "BIGGER_SIZE = 25\n",
    "\n",
    "plt.rc('font', size=SMALL_SIZE)         # controls default text sizes\n",
    "plt.rc('axes', titlesize=BIGGER_SIZE)    # fontsize of the axes title\n",
    "plt.rc('axes', labelsize=MEDIUM_SIZE)    # fontsize of the x and y labels\n",
    "plt.rc('xtick', labelsize=SMALL_SIZE)    # fontsize of the tick labels\n",
    "plt.rc('ytick', labelsize=SMALL_SIZE)    # fontsize of the tick labels\n",
    "plt.rc('legend', fontsize=SMALL_SIZE)    # legend fontsize\n",
    "plt.rc('figure', titlesize=BIGGER_SIZE)  # fontsize of the figure title"
   ]
  },
  {
   "cell_type": "code",
   "execution_count": 3,
   "metadata": {},
   "outputs": [
    {
     "data": {
      "text/html": [
       "<div>\n",
       "<style scoped>\n",
       "    .dataframe tbody tr th:only-of-type {\n",
       "        vertical-align: middle;\n",
       "    }\n",
       "\n",
       "    .dataframe tbody tr th {\n",
       "        vertical-align: top;\n",
       "    }\n",
       "\n",
       "    .dataframe thead th {\n",
       "        text-align: right;\n",
       "    }\n",
       "</style>\n",
       "<table border=\"1\" class=\"dataframe\">\n",
       "  <thead>\n",
       "    <tr style=\"text-align: right;\">\n",
       "      <th></th>\n",
       "      <th>Year</th>\n",
       "      <th>Age</th>\n",
       "      <th>Female_l</th>\n",
       "      <th>Male_l</th>\n",
       "      <th>Total_l</th>\n",
       "    </tr>\n",
       "  </thead>\n",
       "  <tbody>\n",
       "    <tr>\n",
       "      <th>0</th>\n",
       "      <td>1958</td>\n",
       "      <td>0</td>\n",
       "      <td>-2.723920</td>\n",
       "      <td>-2.480397</td>\n",
       "      <td>-2.591788</td>\n",
       "    </tr>\n",
       "    <tr>\n",
       "      <th>1</th>\n",
       "      <td>1958</td>\n",
       "      <td>1</td>\n",
       "      <td>-5.352562</td>\n",
       "      <td>-5.291540</td>\n",
       "      <td>-5.320972</td>\n",
       "    </tr>\n",
       "    <tr>\n",
       "      <th>2</th>\n",
       "      <td>1958</td>\n",
       "      <td>2</td>\n",
       "      <td>-6.357324</td>\n",
       "      <td>-6.197751</td>\n",
       "      <td>-6.272237</td>\n",
       "    </tr>\n",
       "    <tr>\n",
       "      <th>3</th>\n",
       "      <td>1958</td>\n",
       "      <td>3</td>\n",
       "      <td>-6.732962</td>\n",
       "      <td>-6.527266</td>\n",
       "      <td>-6.622576</td>\n",
       "    </tr>\n",
       "    <tr>\n",
       "      <th>4</th>\n",
       "      <td>1958</td>\n",
       "      <td>4</td>\n",
       "      <td>-7.066751</td>\n",
       "      <td>-6.837297</td>\n",
       "      <td>-6.943382</td>\n",
       "    </tr>\n",
       "    <tr>\n",
       "      <th>...</th>\n",
       "      <td>...</td>\n",
       "      <td>...</td>\n",
       "      <td>...</td>\n",
       "      <td>...</td>\n",
       "      <td>...</td>\n",
       "    </tr>\n",
       "    <tr>\n",
       "      <th>6867</th>\n",
       "      <td>2019</td>\n",
       "      <td>96</td>\n",
       "      <td>-1.240243</td>\n",
       "      <td>-1.143835</td>\n",
       "      <td>-1.220129</td>\n",
       "    </tr>\n",
       "    <tr>\n",
       "      <th>6868</th>\n",
       "      <td>2019</td>\n",
       "      <td>97</td>\n",
       "      <td>-1.123130</td>\n",
       "      <td>-1.046502</td>\n",
       "      <td>-1.108135</td>\n",
       "    </tr>\n",
       "    <tr>\n",
       "      <th>6869</th>\n",
       "      <td>2019</td>\n",
       "      <td>98</td>\n",
       "      <td>-1.127061</td>\n",
       "      <td>-0.963167</td>\n",
       "      <td>-1.093425</td>\n",
       "    </tr>\n",
       "    <tr>\n",
       "      <th>6870</th>\n",
       "      <td>2019</td>\n",
       "      <td>99</td>\n",
       "      <td>-0.980088</td>\n",
       "      <td>-0.864780</td>\n",
       "      <td>-0.957410</td>\n",
       "    </tr>\n",
       "    <tr>\n",
       "      <th>6871</th>\n",
       "      <td>2019</td>\n",
       "      <td>100</td>\n",
       "      <td>-1.153616</td>\n",
       "      <td>-1.143442</td>\n",
       "      <td>-1.151820</td>\n",
       "    </tr>\n",
       "  </tbody>\n",
       "</table>\n",
       "<p>6262 rows × 5 columns</p>\n",
       "</div>"
      ],
      "text/plain": [
       "      Year  Age  Female_l    Male_l   Total_l\n",
       "0     1958    0 -2.723920 -2.480397 -2.591788\n",
       "1     1958    1 -5.352562 -5.291540 -5.320972\n",
       "2     1958    2 -6.357324 -6.197751 -6.272237\n",
       "3     1958    3 -6.732962 -6.527266 -6.622576\n",
       "4     1958    4 -7.066751 -6.837297 -6.943382\n",
       "...    ...  ...       ...       ...       ...\n",
       "6867  2019   96 -1.240243 -1.143835 -1.220129\n",
       "6868  2019   97 -1.123130 -1.046502 -1.108135\n",
       "6869  2019   98 -1.127061 -0.963167 -1.093425\n",
       "6870  2019   99 -0.980088 -0.864780 -0.957410\n",
       "6871  2019  100 -1.153616 -1.143442 -1.151820\n",
       "\n",
       "[6262 rows x 5 columns]"
      ]
     },
     "execution_count": 3,
     "metadata": {},
     "output_type": "execute_result"
    }
   ],
   "source": [
    "filename = 'death_rates2.txt'\n",
    "\n",
    "mortality = pd.read_csv(filename, delim_whitespace=True)\n",
    "mortality = mortality[mortality['Age'] != '110+']\n",
    "mortality['Age'] = mortality['Age'].astype(int)\n",
    "mortality['Year'] = mortality['Year'].astype(int)\n",
    "mortality = mortality[mortality['Age'] <= 100]\n",
    "mortality['Female_l'] = np.log(mortality['Female'].astype(float))\n",
    "mortality['Male_l'] = np.log(mortality['Male'].astype(float))\n",
    "mortality['Total_l'] = np.log(mortality['Total'].astype(float))\n",
    "mortality = mortality[['Year', 'Age', 'Female_l', 'Male_l', 'Total_l']]\n",
    "mortality"
   ]
  },
  {
   "cell_type": "code",
   "execution_count": 4,
   "metadata": {},
   "outputs": [],
   "source": [
    "age = 65\n",
    "column = 'Female_l'"
   ]
  },
  {
   "cell_type": "markdown",
   "metadata": {},
   "source": [
    "# Linear model"
   ]
  },
  {
   "cell_type": "code",
   "execution_count": 5,
   "metadata": {},
   "outputs": [],
   "source": [
    "fm = mortality.pivot(index=\"Age\", columns=\"Year\", values=column)\n",
    "data = fm.values # (101 (age), 62 (years))\n",
    "\n",
    "total_years = data.shape[1]\n",
    "trained_from = 30\n",
    "trained_to = 41\n",
    "trained_data = data[:,trained_from:trained_to+1]\n",
    "trained_time = np.arange(trained_from, trained_to + 1)\n",
    "\n",
    "\n",
    "b1 = ((trained_time[None,:] - trained_time.mean())*(trained_data-trained_data.mean(1)[:,None])).sum(1)/((trained_time - trained_time.mean())**2).sum()\n",
    "b0 = trained_data.mean(1)-b1*trained_time.mean()\n",
    "\n",
    "b1 = b1[:, None] \n",
    "b0 = b0[:, None]\n",
    "\n",
    "\n",
    "estimated_time = np.arange(trained_to + 1, total_years + 1)\n",
    "estimated_data_without_rw = np.exp(b1*estimated_time[None,:] + b0)\n",
    "\n",
    "adjusted_trend = b1*trained_time[None,:] + b0"
   ]
  },
  {
   "cell_type": "markdown",
   "metadata": {},
   "source": [
    "# Linear model in rolling window scheme"
   ]
  },
  {
   "cell_type": "code",
   "execution_count": 6,
   "metadata": {},
   "outputs": [],
   "source": [
    "W_lengths = [2, 3, 4, 5, 6, 7, 8, 9, 10]\n",
    "\n",
    "total_years = data.shape[1]\n",
    "estimated_from = 42\n",
    "lag = 1\n",
    "\n",
    "estimated_data_different_windows = []\n",
    "for window_size in W_lengths:\n",
    "\n",
    "    estimated_data = []\n",
    "\n",
    "    for i in range(total_years - estimated_from + 1):\n",
    "        trained_to = estimated_from + i \n",
    "        trained_from = trained_to - window_size \n",
    "        trained_data = data[:,trained_from:trained_to]\n",
    "        trained_time = np.arange(trained_from, trained_to)\n",
    "\n",
    "        b1 = ((trained_time[None,:] - trained_time.mean())*(trained_data-trained_data.mean(1)[:,None])).sum(1)/((trained_time - trained_time.mean())**2).sum()\n",
    "        b0 = trained_data.mean(1)-b1*trained_time.mean()\n",
    "\n",
    "        estimated_data.append(trained_to*b1 + b0)\n",
    "\n",
    "    estimated_data = np.array(estimated_data).T\n",
    "    estimated_data_different_windows.append(estimated_data)\n",
    "\n",
    "estimated_data_different_windows = np.array(estimated_data_different_windows) # shape (7 (windows number), 101 (age), 23 (years))\n",
    "\n",
    "estimated_data_with_rw = np.exp(estimated_data_different_windows.mean(0))"
   ]
  },
  {
   "cell_type": "markdown",
   "metadata": {},
   "source": [
    "# Lee-Carter for a given age"
   ]
  },
  {
   "cell_type": "markdown",
   "metadata": {},
   "source": [
    "### Lee-Carter model implementation: ARIMA usage, training window from 1958 to 1999"
   ]
  },
  {
   "cell_type": "code",
   "execution_count": 7,
   "metadata": {
    "collapsed": false,
    "pycharm": {
     "name": "#%%\n"
    }
   },
   "outputs": [],
   "source": [
    "def fit_arima(matrix):\n",
    "    d = []\n",
    "    for a in range(5):\n",
    "        for b in range(5):\n",
    "            for c in range(5):\n",
    "                mod = ARIMA(matrix, order=(a,b,c))\n",
    "                res = mod.fit()\n",
    "                d.append([res.llf, a, b, c])\n",
    "\n",
    "    return max(d)\n",
    "\n",
    "\n",
    "def predict(matrix, column: str = 'Female_l', age = 65, steps=21, training_start = 0):\n",
    "    \"\"\"_summary_\n",
    "\n",
    "    Args:\n",
    "        matrix (_type_): _description_\n",
    "        column (str, optional): _description_. Defaults to 'Female_l'.\n",
    "        age (int, optional): _description_. Defaults to 65.\n",
    "        steps (int, optional): _description_. Defaults to 21.\n",
    "        training_start (int, optional): below 20 there are problems with ARIMA convergence. Defaults to 20.\n",
    "\n",
    "    Returns:\n",
    "        _type_: _description_\n",
    "    \"\"\"    \n",
    "    fm = matrix.pivot(index=\"Age\", columns=\"Year\", values=column)\n",
    "    fm_train = fm.iloc[:,training_start:round(np.shape(fm)[1]*2/3)]\n",
    "    fm = fm_train\n",
    "    fm = fm.to_numpy()\n",
    "    a_x = fm.mean(axis=1)\n",
    "    T = np.shape(fm)[1]\n",
    "    z_xt = fm - np.matlib.repmat(a_x, T, 1).T\n",
    "    U, S, V = np.linalg.svd(z_xt, full_matrices=True)\n",
    "    b_x = U[:, 0]/U[:, 0].sum()\n",
    "    k_t = V[0, :]*S[0]*U[:, 0].sum()\n",
    "    a_x = a_x + k_t.sum()*b_x\n",
    "    k_t = k_t - k_t.sum()\n",
    "\n",
    "    _, par1, par2, par3 = fit_arima(k_t)\n",
    "    print((par1,par2,par3))\n",
    "    mod = ARIMA(k_t, order=(par1,par2,par3))\n",
    "    res = mod.fit()\n",
    "\n",
    "    pred = res.forecast(steps=steps)\n",
    "    return np.exp(a_x[age] + b_x[age]*pred)\n",
    "\n",
    "def predict_no_arima(matrix, column: str='Female_l', age=65, steps=21, training_start = 30):\n",
    "    fm = matrix.pivot(index=\"Age\", columns=\"Year\", values=column)\n",
    "    fm_train = fm.iloc[:,training_start:round(np.shape(fm)[1]*2/3)]\n",
    "    fm = fm_train\n",
    "    fm = fm.to_numpy()\n",
    "    a_x = fm.mean(axis=1)\n",
    "    T = np.shape(fm)[1]\n",
    "    z_xt = fm - np.matlib.repmat(a_x, T, 1).T\n",
    "    U, S, V = np.linalg.svd(z_xt, full_matrices=True)\n",
    "    b_x = U[:, 0]/U[:, 0].sum()\n",
    "    k_t = V[0, :]*S[0]*U[:, 0].sum()\n",
    "    a_x = a_x + k_t.sum()*b_x\n",
    "    k_t = k_t - k_t.sum()\n",
    "\n",
    "    theta = (k_t[-1] - k_t[0]) / (len(k_t) - 1) # according to the Girosi, King, 2007 and Lee Carter done it the same way. ARIMA was exploding\n",
    "\n",
    "    pred = k_t[-1] + theta * np.arange(1, steps + 1)\n",
    "\n",
    "    return np.exp(a_x[age] + b_x[age]*pred)"
   ]
  },
  {
   "cell_type": "code",
   "execution_count": 8,
   "metadata": {
    "collapsed": false,
    "pycharm": {
     "name": "#%%\n"
    }
   },
   "outputs": [
    {
     "name": "stdout",
     "output_type": "stream",
     "text": [
      "(4, 2, 3)\n"
     ]
    }
   ],
   "source": [
    "vals = predict(mortality, column, age)\n",
    "real_vals = mortality[mortality['Age']==age][['Year','Age',column]]\n",
    "real_vals[column] = real_vals[column].apply(lambda x: np.exp(x))"
   ]
  },
  {
   "cell_type": "code",
   "execution_count": 9,
   "metadata": {
    "collapsed": false,
    "pycharm": {
     "name": "#%%\n"
    }
   },
   "outputs": [
    {
     "data": {
      "image/png": "[encoded data removed]",
      "text/plain": [
       "<Figure size 576x252 with 1 Axes>"
      ]
     },
     "metadata": {
      "needs_background": "light"
     },
     "output_type": "display_data"
    }
   ],
   "source": [
    "fig, ax = plt.subplots(figsize = (0.8 * Image_width, 0.35 * Image_width))\n",
    "ax.scatter(real_vals['Year'], real_vals[column], label='real values')\n",
    "ax.scatter(np.arange(1999,2020,1), vals, label='LC prediction')\n",
    "ax.set_xlabel('year')\n",
    "ax.set_ylabel('mortality rate')\n",
    "# ax.set_title(\"Lee--Carter model long term forecasts\")\n",
    "ax.axvline(x = 1999, color = 'black', linestyle = '--', linewidth = 2)\n",
    "if age == 65 and column == 'Female_l':\n",
    "    ax.text(1980, 0.02, '$\\Longleftarrow$training window', horizontalalignment='left')\n",
    "    ax.text(2015, 0.016, 'test window$\\Longrightarrow$', horizontalalignment='right')\n",
    "ax.scatter(np.arange(1999,2020,1), estimated_data_without_rw[age, :], marker = '*', label='linear prediction')\n",
    "ax.legend()\n",
    "fig.tight_layout()\n",
    "\n",
    "plt.savefig(f'Figures/Mortality_rate_21_years_ahead_ARIMA_forecast_{column}_{age}.jpg', bbox_inches = 'tight', dpi = 700)"
   ]
  },
  {
   "cell_type": "markdown",
   "metadata": {},
   "source": [
    "### Lee-Carter model implementation: ARIMA usage, averages over different training windows"
   ]
  },
  {
   "cell_type": "code",
   "execution_count": 10,
   "metadata": {},
   "outputs": [],
   "source": [
    "# W_lengths = [21, 30, 41] # we cannot technically take less than 21\n",
    "# Vals = np.ones((len(W_lengths), 21))\n",
    "# for i, w_len in enumerate(W_lengths):\n",
    "#     Vals[i, :] = predict(mortality, column, age, training_start = 41 - w_len)\n",
    "# vals = np.mean(Vals, 0)\n",
    "# real_vals = mortality[mortality['Age']==age][['Year','Age',column]]\n",
    "# real_vals[column] = real_vals[column].apply(lambda x: np.exp(x))"
   ]
  },
  {
   "cell_type": "code",
   "execution_count": 11,
   "metadata": {},
   "outputs": [],
   "source": [
    "# fig, ax = plt.subplots(figsize = (0.8 * Image_width, 0.4 * Image_width))\n",
    "# ax.scatter(real_vals['Year'], real_vals[column], label='real values')\n",
    "# ax.scatter(np.arange(1999,2020,1), vals, label='LC prediction')\n",
    "# ax.set_xlabel('year')\n",
    "# ax.set_ylabel('mortality rate')\n",
    "# # ax.set_title(\"Lee--Carter model long term forecasts\")\n",
    "# ax.axvline(x = 1999, color = 'black', linestyle = '--', linewidth = 2)\n",
    "# if age == 65 and column == 'Female_1':\n",
    "#     ax.text(1980, 0.02, '$\\Longleftarrow$training window', horizontalalignment='left')\n",
    "#     ax.text(2015, 0.016, 'test window$\\Longrightarrow$', horizontalalignment='right')\n",
    "# ax.scatter(np.arange(1999,2020,1), estimated_data_without_rw[age, :], marker = '*', label='linear prediction')\n",
    "# ax.legend()\n",
    "# fig.tight_layout()\n",
    "\n",
    "# plt.savefig(f'Figures/Mortality_rate_21_years_ahead_ARIMA_forecast_averaged_{column}_{age}.jpg', bbox_inches = 'tight', dpi = 700)"
   ]
  },
  {
   "cell_type": "markdown",
   "metadata": {},
   "source": [
    "### Lee-Carter model implementation: drift usage, averages over different training windows"
   ]
  },
  {
   "cell_type": "code",
   "execution_count": 12,
   "metadata": {},
   "outputs": [],
   "source": [
    "W_lengths = [41, 10]\n",
    "Vals = np.ones((len(W_lengths), 21))\n",
    "for i, w_len in enumerate(W_lengths):\n",
    "    Vals[i, :] = predict_no_arima(mortality, column, age, training_start = 41 - w_len)\n",
    "vals = np.mean(Vals, 0)\n",
    "real_vals = mortality[mortality['Age']==age][['Year','Age',column]]\n",
    "real_vals[column] = real_vals[column].apply(lambda x: np.exp(x))"
   ]
  },
  {
   "cell_type": "code",
   "execution_count": 13,
   "metadata": {},
   "outputs": [
    {
     "data": {
      "image/png": "[encoded data removed]",
      "text/plain": [
       "<Figure size 576x252 with 1 Axes>"
      ]
     },
     "metadata": {
      "needs_background": "light"
     },
     "output_type": "display_data"
    }
   ],
   "source": [
    "fig, ax = plt.subplots(figsize = (0.8 * Image_width, 0.35 * Image_width))\n",
    "ax.scatter(real_vals['Year'], real_vals[column], label='real values')\n",
    "ax.scatter(np.arange(1999,2020,1), vals, label='LC prediction')\n",
    "ax.set_xlabel('year')\n",
    "ax.set_ylabel('mortality rate')\n",
    "# ax.set_title(\"Lee--Carter model long term forecasts\")\n",
    "ax.axvline(x = 1999, color = 'black', linestyle = '--', linewidth = 2)\n",
    "if age == 65 and column == 'Female_l':\n",
    "    ax.text(1980, 0.02, '$\\Longleftarrow$training window', horizontalalignment='left')\n",
    "    ax.text(2015, 0.016, 'test window$\\Longrightarrow$', horizontalalignment='right')\n",
    "ax.scatter(np.arange(1999,2020,1), estimated_data_without_rw[age, :], marker = '*', label='linear prediction')\n",
    "ax.legend()\n",
    "fig.tight_layout()\n",
    "\n",
    "plt.savefig(f'Figures/Mortality_rate_21_years_ahead_drift_forecast_averaged_{column}_{age}.jpg', bbox_inches = 'tight', dpi = 700)"
   ]
  },
  {
   "cell_type": "markdown",
   "metadata": {},
   "source": [
    "# Lee-Carter implementation in a rolling window scheme"
   ]
  },
  {
   "cell_type": "code",
   "execution_count": 14,
   "metadata": {},
   "outputs": [],
   "source": [
    "def predict_rolling(fm_train, age):\n",
    "    fm = fm_train\n",
    "    fm = fm.to_numpy()\n",
    "    a_x = fm.mean(axis=1)\n",
    "    T = np.shape(fm)[1]\n",
    "    z_xt = fm - np.matlib.repmat(a_x, T, 1).T\n",
    "    U, S, V = np.linalg.svd(z_xt, full_matrices=True)\n",
    "\n",
    "    b_x = U[:, 0]/U[:, 0].sum()\n",
    "    k_t = V[0, :]*S[0]*U[:, 0].sum()\n",
    "    a_x = a_x + k_t.sum()*b_x\n",
    "    k_t = k_t - k_t.sum()\n",
    "\n",
    "    theta = (k_t[-1] - k_t[0]) / (len(k_t) - 1) # according to the Girosi, King, 2007 and Lee Carter done it the same way. ARIMA was exploding\n",
    "\n",
    "    pred = k_t[-1] + theta\n",
    "    return np.exp(a_x[age] + b_x[age]*pred)\n",
    "\n",
    "def rolling_window(matrix, column: str = 'Female_l', age = 65, start_of_test = 53, end_of_test = 62, window_length = 41):\n",
    "    fm = matrix.pivot(index=\"Age\", columns=\"Year\", values=column)\n",
    "    rolling_window_forecasts = np.ones(end_of_test - start_of_test)*-999\n",
    "    for i in tqdm(range(start_of_test, end_of_test)):\n",
    "        fm_train = fm.iloc[:, i - window_length:i]\n",
    "        rolling_window_forecasts[i - start_of_test] = predict_rolling(fm_train, age = age)\n",
    "    return rolling_window_forecasts\n",
    "    "
   ]
  },
  {
   "cell_type": "code",
   "execution_count": 15,
   "metadata": {},
   "outputs": [
    {
     "name": "stderr",
     "output_type": "stream",
     "text": [
      "100%|██████████| 21/21 [00:00<00:00, 2697.88it/s]\n",
      "100%|██████████| 21/21 [00:00<00:00, 1914.04it/s]\n",
      "100%|██████████| 21/21 [00:00<00:00, 472.29it/s]\n",
      "100%|██████████| 21/21 [00:00<00:00, 1403.90it/s]\n",
      "100%|██████████| 21/21 [00:00<00:00, 1169.77it/s]\n",
      "100%|██████████| 21/21 [00:00<00:00, 1316.38it/s]\n",
      "100%|██████████| 21/21 [00:00<00:00, 890.09it/s]\n",
      "100%|██████████| 21/21 [00:00<00:00, 569.07it/s]\n"
     ]
    }
   ],
   "source": [
    "# averaging of forecasts\n",
    "W_lengths = [3, 4, 5, 6, 7, 8, 20, 41]\n",
    "Vals = np.ones((len(W_lengths), 21))\n",
    "for i, w_len in enumerate(W_lengths):\n",
    "    Vals[i, :] = rolling_window(mortality, column, age, start_of_test = 41, window_length = w_len)\n",
    "vals = np.mean(Vals, 0)"
   ]
  },
  {
   "cell_type": "code",
   "execution_count": 16,
   "metadata": {},
   "outputs": [
    {
     "data": {
      "image/png": "[encoded data removed]",
      "text/plain": [
       "<Figure size 576x252 with 1 Axes>"
      ]
     },
     "metadata": {
      "needs_background": "light"
     },
     "output_type": "display_data"
    }
   ],
   "source": [
    "fig, ax = plt.subplots(figsize = (0.8 * Image_width, 0.35 * Image_width))\n",
    "ax.scatter(real_vals['Year'], real_vals[column], label='real values')\n",
    "ax.scatter(np.arange(1999,2020,1), vals, label='LC prediction')\n",
    "ax.set_xlabel('year')\n",
    "ax.set_ylabel('mortality rate')\n",
    "# ax.set_title(\"Lee--Carter model short term forecasts\")\n",
    "ax.axvline(x = 1999, color = 'black', linestyle = '--', linewidth = 2)\n",
    "if age == 65 and column == 'Female_l':\n",
    "    ax.text(1980, 0.02, '$\\Longleftarrow$training window', horizontalalignment='left')\n",
    "    ax.text(2015, 0.016, 'test window$\\Longrightarrow$', horizontalalignment='right')\n",
    "ax.scatter(np.arange(1999,2020,1), estimated_data_with_rw[age, :], marker = '*', label='linear prediction')\n",
    "ax.legend()\n",
    "fig.tight_layout()\n",
    "\n",
    "plt.savefig(f'Figures/Mortality_rate_1_year_ahead_forecast_{column}_{age}.jpg', bbox_inches = 'tight', dpi = 700)"
   ]
  },
  {
   "cell_type": "code",
   "execution_count": 17,
   "metadata": {},
   "outputs": [
    {
     "data": {
      "text/plain": [
       "0.0002970607748732406"
      ]
     },
     "execution_count": 17,
     "metadata": {},
     "output_type": "execute_result"
    }
   ],
   "source": [
    "MAE_Lee_Carter = np.mean(np.abs(vals - real_vals[column].to_numpy()[-21:]))\n",
    "MAE_Lee_Carter"
   ]
  },
  {
   "cell_type": "code",
   "execution_count": 18,
   "metadata": {},
   "outputs": [
    {
     "data": {
      "text/plain": [
       "0.00020760066691406142"
      ]
     },
     "execution_count": 18,
     "metadata": {},
     "output_type": "execute_result"
    }
   ],
   "source": [
    "MAE_linear = np.mean(np.abs(estimated_data_with_rw[age, :] - real_vals[column].to_numpy()[-21:]))\n",
    "MAE_linear"
   ]
  },
  {
   "cell_type": "code",
   "execution_count": null,
   "metadata": {},
   "outputs": [],
   "source": []
  }
 ],
 "metadata": {
  "kernelspec": {
   "display_name": "Python 3.10.1 64-bit",
   "language": "python",
   "name": "python3"
  },
  "language_info": {
   "codemirror_mode": {
    "name": "ipython",
    "version": 3
   },
   "file_extension": ".py",
   "mimetype": "text/x-python",
   "name": "python",
   "nbconvert_exporter": "python",
   "pygments_lexer": "ipython3",
   "version": "3.10.1"
  },
  "vscode": {
   "interpreter": {
    "hash": "d38922d36489c8af6ee2b2d50f32a85ff90f4f0643b51da8d07090b2c64ad6eb"
   }
  }
 },
 "nbformat": 4,
 "nbformat_minor": 0
}
