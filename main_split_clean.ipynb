{
 "cells": [
  {
   "cell_type": "code",
   "execution_count": 6,
   "metadata": {
    "collapsed": true
   },
   "outputs": [],
   "source": [
    "# from leecarter import leecarter\n",
    "import pandas as pd\n",
    "from tqdm import tqdm\n",
    "\n",
    "import numpy as np\n",
    "import numpy.matlib\n",
    "from matplotlib import pyplot as plt\n",
    "\n",
    "from statsmodels.tsa.stattools import adfuller\n",
    "from statsmodels.graphics.tsaplots import plot_acf, plot_pacf\n",
    "from statsmodels.tsa.arima.model import ARIMA\n",
    "\n",
    "import warnings\n",
    "from statsmodels.tools.sm_exceptions import ConvergenceWarning\n",
    "warnings.simplefilter('ignore', ConvergenceWarning)\n",
    "warnings.simplefilter('ignore', UserWarning)\n",
    "\n",
    "from joblib import Memory\n",
    "location = 'cache'\n",
    "memory = Memory(location, verbose = 0)\n"
   ]
  },
  {
   "cell_type": "code",
   "execution_count": 7,
   "metadata": {
    "collapsed": false,
    "pycharm": {
     "name": "#%%\n"
    }
   },
   "outputs": [
    {
     "data": {
      "text/html": [
       "<div>\n",
       "<style scoped>\n",
       "    .dataframe tbody tr th:only-of-type {\n",
       "        vertical-align: middle;\n",
       "    }\n",
       "\n",
       "    .dataframe tbody tr th {\n",
       "        vertical-align: top;\n",
       "    }\n",
       "\n",
       "    .dataframe thead th {\n",
       "        text-align: right;\n",
       "    }\n",
       "</style>\n",
       "<table border=\"1\" class=\"dataframe\">\n",
       "  <thead>\n",
       "    <tr style=\"text-align: right;\">\n",
       "      <th></th>\n",
       "      <th>Year</th>\n",
       "      <th>Age</th>\n",
       "      <th>Female_l</th>\n",
       "      <th>Male_l</th>\n",
       "      <th>Total_l</th>\n",
       "    </tr>\n",
       "  </thead>\n",
       "  <tbody>\n",
       "    <tr>\n",
       "      <th>0</th>\n",
       "      <td>1958</td>\n",
       "      <td>0</td>\n",
       "      <td>-2.723920</td>\n",
       "      <td>-2.480397</td>\n",
       "      <td>-2.591788</td>\n",
       "    </tr>\n",
       "    <tr>\n",
       "      <th>1</th>\n",
       "      <td>1958</td>\n",
       "      <td>1</td>\n",
       "      <td>-5.352562</td>\n",
       "      <td>-5.291540</td>\n",
       "      <td>-5.320972</td>\n",
       "    </tr>\n",
       "    <tr>\n",
       "      <th>2</th>\n",
       "      <td>1958</td>\n",
       "      <td>2</td>\n",
       "      <td>-6.357324</td>\n",
       "      <td>-6.197751</td>\n",
       "      <td>-6.272237</td>\n",
       "    </tr>\n",
       "    <tr>\n",
       "      <th>3</th>\n",
       "      <td>1958</td>\n",
       "      <td>3</td>\n",
       "      <td>-6.732962</td>\n",
       "      <td>-6.527266</td>\n",
       "      <td>-6.622576</td>\n",
       "    </tr>\n",
       "    <tr>\n",
       "      <th>4</th>\n",
       "      <td>1958</td>\n",
       "      <td>4</td>\n",
       "      <td>-7.066751</td>\n",
       "      <td>-6.837297</td>\n",
       "      <td>-6.943382</td>\n",
       "    </tr>\n",
       "    <tr>\n",
       "      <th>...</th>\n",
       "      <td>...</td>\n",
       "      <td>...</td>\n",
       "      <td>...</td>\n",
       "      <td>...</td>\n",
       "      <td>...</td>\n",
       "    </tr>\n",
       "    <tr>\n",
       "      <th>6867</th>\n",
       "      <td>2019</td>\n",
       "      <td>96</td>\n",
       "      <td>-1.240243</td>\n",
       "      <td>-1.143835</td>\n",
       "      <td>-1.220129</td>\n",
       "    </tr>\n",
       "    <tr>\n",
       "      <th>6868</th>\n",
       "      <td>2019</td>\n",
       "      <td>97</td>\n",
       "      <td>-1.123130</td>\n",
       "      <td>-1.046502</td>\n",
       "      <td>-1.108135</td>\n",
       "    </tr>\n",
       "    <tr>\n",
       "      <th>6869</th>\n",
       "      <td>2019</td>\n",
       "      <td>98</td>\n",
       "      <td>-1.127061</td>\n",
       "      <td>-0.963167</td>\n",
       "      <td>-1.093425</td>\n",
       "    </tr>\n",
       "    <tr>\n",
       "      <th>6870</th>\n",
       "      <td>2019</td>\n",
       "      <td>99</td>\n",
       "      <td>-0.980088</td>\n",
       "      <td>-0.864780</td>\n",
       "      <td>-0.957410</td>\n",
       "    </tr>\n",
       "    <tr>\n",
       "      <th>6871</th>\n",
       "      <td>2019</td>\n",
       "      <td>100</td>\n",
       "      <td>-1.153616</td>\n",
       "      <td>-1.143442</td>\n",
       "      <td>-1.151820</td>\n",
       "    </tr>\n",
       "  </tbody>\n",
       "</table>\n",
       "<p>6262 rows × 5 columns</p>\n",
       "</div>"
      ],
      "text/plain": [
       "      Year  Age  Female_l    Male_l   Total_l\n",
       "0     1958    0 -2.723920 -2.480397 -2.591788\n",
       "1     1958    1 -5.352562 -5.291540 -5.320972\n",
       "2     1958    2 -6.357324 -6.197751 -6.272237\n",
       "3     1958    3 -6.732962 -6.527266 -6.622576\n",
       "4     1958    4 -7.066751 -6.837297 -6.943382\n",
       "...    ...  ...       ...       ...       ...\n",
       "6867  2019   96 -1.240243 -1.143835 -1.220129\n",
       "6868  2019   97 -1.123130 -1.046502 -1.108135\n",
       "6869  2019   98 -1.127061 -0.963167 -1.093425\n",
       "6870  2019   99 -0.980088 -0.864780 -0.957410\n",
       "6871  2019  100 -1.153616 -1.143442 -1.151820\n",
       "\n",
       "[6262 rows x 5 columns]"
      ]
     },
     "execution_count": 7,
     "metadata": {},
     "output_type": "execute_result"
    }
   ],
   "source": [
    "filename = 'death_rates2.txt'\n",
    "\n",
    "mortality = pd.read_csv(filename, delim_whitespace=True)\n",
    "mortality = mortality[mortality['Age'] != '110+']\n",
    "mortality['Age'] = mortality['Age'].astype(int)\n",
    "mortality['Year'] = mortality['Year'].astype(int)\n",
    "mortality = mortality[mortality['Age'] <= 100]\n",
    "mortality['Female_l'] = np.log(mortality['Female'].astype(float))\n",
    "mortality['Male_l'] = np.log(mortality['Male'].astype(float))\n",
    "mortality['Total_l'] = np.log(mortality['Total'].astype(float))\n",
    "mortality = mortality[['Year', 'Age', 'Female_l', 'Male_l', 'Total_l']]\n",
    "mortality"
   ]
  },
  {
   "cell_type": "markdown",
   "metadata": {},
   "source": [
    "# Lee-Carter model implementation"
   ]
  },
  {
   "cell_type": "code",
   "execution_count": 40,
   "metadata": {
    "collapsed": false,
    "pycharm": {
     "name": "#%%\n"
    }
   },
   "outputs": [],
   "source": [
    "def fit_arima(matrix):\n",
    "    d = []\n",
    "    for a in range(5):\n",
    "        for b in range(5):\n",
    "            for c in range(5):\n",
    "                mod = ARIMA(matrix, order=(a,b,c))\n",
    "                res = mod.fit()\n",
    "                d.append([res.llf, a, b, c])\n",
    "\n",
    "    return max(d)\n",
    "\n",
    "\n",
    "def predict(matrix, column: str = 'Female_l', age = 65, steps=21):\n",
    "    fm = matrix.pivot(index=\"Age\", columns=\"Year\", values=column)\n",
    "    fm_train = fm.iloc[:,0:round(np.shape(fm)[1]*2/3)]\n",
    "    fm = fm_train\n",
    "    fm = fm.to_numpy()\n",
    "    a_x = fm.mean(axis=1)\n",
    "    T = np.shape(fm)[1]\n",
    "    z_xt = fm - np.matlib.repmat(a_x, T, 1).T\n",
    "    U, S, V = np.linalg.svd(z_xt, full_matrices=True)\n",
    "    b_x = U[:, 0]/U[:, 0].sum()\n",
    "    k_t = V[0, :]*S[0]*U[:, 0].sum()\n",
    "    a_x = a_x + k_t.sum()*b_x\n",
    "    k_t = k_t - k_t.sum()\n",
    "\n",
    "    _, par1, par2, par3 = fit_arima(k_t)\n",
    "    mod = ARIMA(k_t, order=(par1,par2,par3))\n",
    "    res = mod.fit()\n",
    "\n",
    "    pred = res.forecast(steps=steps)\n",
    "    return np.exp(a_x[age] + b_x[age]*pred)"
   ]
  },
  {
   "cell_type": "code",
   "execution_count": 41,
   "metadata": {
    "collapsed": false,
    "pycharm": {
     "name": "#%%\n"
    }
   },
   "outputs": [],
   "source": [
    "age = 65\n",
    "column = 'Female_l'"
   ]
  },
  {
   "cell_type": "code",
   "execution_count": 42,
   "metadata": {
    "collapsed": false,
    "pycharm": {
     "name": "#%%\n"
    }
   },
   "outputs": [],
   "source": [
    "vals = predict(mortality, column, age)"
   ]
  },
  {
   "cell_type": "code",
   "execution_count": 43,
   "metadata": {
    "collapsed": false,
    "pycharm": {
     "name": "#%%\n"
    }
   },
   "outputs": [
    {
     "data": {
      "text/html": [
       "<div>\n",
       "<style scoped>\n",
       "    .dataframe tbody tr th:only-of-type {\n",
       "        vertical-align: middle;\n",
       "    }\n",
       "\n",
       "    .dataframe tbody tr th {\n",
       "        vertical-align: top;\n",
       "    }\n",
       "\n",
       "    .dataframe thead th {\n",
       "        text-align: right;\n",
       "    }\n",
       "</style>\n",
       "<table border=\"1\" class=\"dataframe\">\n",
       "  <thead>\n",
       "    <tr style=\"text-align: right;\">\n",
       "      <th></th>\n",
       "      <th>Year</th>\n",
       "      <th>Age</th>\n",
       "      <th>Female_l</th>\n",
       "    </tr>\n",
       "  </thead>\n",
       "  <tbody>\n",
       "    <tr>\n",
       "      <th>65</th>\n",
       "      <td>1958</td>\n",
       "      <td>65</td>\n",
       "      <td>0.020337</td>\n",
       "    </tr>\n",
       "    <tr>\n",
       "      <th>176</th>\n",
       "      <td>1959</td>\n",
       "      <td>65</td>\n",
       "      <td>0.021817</td>\n",
       "    </tr>\n",
       "    <tr>\n",
       "      <th>287</th>\n",
       "      <td>1960</td>\n",
       "      <td>65</td>\n",
       "      <td>0.019643</td>\n",
       "    </tr>\n",
       "    <tr>\n",
       "      <th>398</th>\n",
       "      <td>1961</td>\n",
       "      <td>65</td>\n",
       "      <td>0.019515</td>\n",
       "    </tr>\n",
       "    <tr>\n",
       "      <th>509</th>\n",
       "      <td>1962</td>\n",
       "      <td>65</td>\n",
       "      <td>0.020237</td>\n",
       "    </tr>\n",
       "    <tr>\n",
       "      <th>...</th>\n",
       "      <td>...</td>\n",
       "      <td>...</td>\n",
       "      <td>...</td>\n",
       "    </tr>\n",
       "    <tr>\n",
       "      <th>6392</th>\n",
       "      <td>2015</td>\n",
       "      <td>65</td>\n",
       "      <td>0.010841</td>\n",
       "    </tr>\n",
       "    <tr>\n",
       "      <th>6503</th>\n",
       "      <td>2016</td>\n",
       "      <td>65</td>\n",
       "      <td>0.010374</td>\n",
       "    </tr>\n",
       "    <tr>\n",
       "      <th>6614</th>\n",
       "      <td>2017</td>\n",
       "      <td>65</td>\n",
       "      <td>0.010702</td>\n",
       "    </tr>\n",
       "    <tr>\n",
       "      <th>6725</th>\n",
       "      <td>2018</td>\n",
       "      <td>65</td>\n",
       "      <td>0.010264</td>\n",
       "    </tr>\n",
       "    <tr>\n",
       "      <th>6836</th>\n",
       "      <td>2019</td>\n",
       "      <td>65</td>\n",
       "      <td>0.010284</td>\n",
       "    </tr>\n",
       "  </tbody>\n",
       "</table>\n",
       "<p>62 rows × 3 columns</p>\n",
       "</div>"
      ],
      "text/plain": [
       "      Year  Age  Female_l\n",
       "65    1958   65  0.020337\n",
       "176   1959   65  0.021817\n",
       "287   1960   65  0.019643\n",
       "398   1961   65  0.019515\n",
       "509   1962   65  0.020237\n",
       "...    ...  ...       ...\n",
       "6392  2015   65  0.010841\n",
       "6503  2016   65  0.010374\n",
       "6614  2017   65  0.010702\n",
       "6725  2018   65  0.010264\n",
       "6836  2019   65  0.010284\n",
       "\n",
       "[62 rows x 3 columns]"
      ]
     },
     "execution_count": 43,
     "metadata": {},
     "output_type": "execute_result"
    }
   ],
   "source": [
    "real_vals = mortality[mortality['Age']==age][['Year','Age',column]]\n",
    "real_vals[column] = real_vals[column].apply(lambda x: np.exp(x))\n",
    "real_vals"
   ]
  },
  {
   "cell_type": "code",
   "execution_count": 44,
   "metadata": {
    "collapsed": false,
    "pycharm": {
     "name": "#%%\n"
    }
   },
   "outputs": [
    {
     "data": {
      "image/png": "[encoded data removed]",
      "text/plain": [
       "<Figure size 720x360 with 1 Axes>"
      ]
     },
     "metadata": {
      "needs_background": "light"
     },
     "output_type": "display_data"
    }
   ],
   "source": [
    "plt.figure(figsize=(10,5))\n",
    "plt.scatter(real_vals['Year'], real_vals[column], label = 'real values')\n",
    "plt.scatter(np.arange(1999,2020,1), vals, label='prediction')\n",
    "plt.xlabel('year')\n",
    "plt.ylabel('mortality')\n",
    "plt.legend()\n",
    "plt.savefig('figure.svg')"
   ]
  },
  {
   "cell_type": "markdown",
   "metadata": {},
   "source": [
    "# Lee-Carter implementation in rolling window scheme"
   ]
  },
  {
   "cell_type": "code",
   "execution_count": 82,
   "metadata": {},
   "outputs": [],
   "source": [
    "def predict_rolling(fm_train, age):\n",
    "    fm = fm_train\n",
    "    fm = fm.to_numpy()\n",
    "    a_x = fm.mean(axis=1)\n",
    "    T = np.shape(fm)[1]\n",
    "    z_xt = fm - np.matlib.repmat(a_x, T, 1).T\n",
    "    U, S, V = np.linalg.svd(z_xt, full_matrices=True)\n",
    "\n",
    "    b_x = U[:, 0]/U[:, 0].sum()\n",
    "    k_t = V[0, :]*S[0]*U[:, 0].sum()\n",
    "    a_x = a_x + k_t.sum()*b_x\n",
    "    k_t = k_t - k_t.sum()\n",
    "\n",
    "    theta = (k_t[-1] - k_t[0]) / (len(k_t) - 1) #according to the Girosi, King, 2007 and Lee Carter done it the same way. ARIMA was exploding\n",
    "\n",
    "    pred = k_t[-1] + theta\n",
    "    return np.exp(a_x[age] + b_x[age]*pred)\n",
    "\n",
    "def rolling_window(matrix, column: str = 'Female_l', age = 65, start_of_test = 53, end_of_test = 62, window_length = 41):\n",
    "    fm = matrix.pivot(index=\"Age\", columns=\"Year\", values=column)\n",
    "    rolling_window_forecasts = np.ones(end_of_test - start_of_test)*-999\n",
    "    for i in tqdm(range(start_of_test, end_of_test)):\n",
    "        fm_train = fm.iloc[:, i - window_length:i]\n",
    "        rolling_window_forecasts[i - start_of_test] = predict_rolling(fm_train, age = age)\n",
    "    return rolling_window_forecasts\n",
    "    "
   ]
  },
  {
   "cell_type": "code",
   "execution_count": 153,
   "metadata": {},
   "outputs": [
    {
     "data": {
      "text/plain": [
       "array([0.01390249, 0.01391415, 0.01303229, 0.01203931, 0.01167266,\n",
       "       0.01123769, 0.0110628 , 0.01124224, 0.01099158, 0.01101867,\n",
       "       0.01098184, 0.01120957, 0.0106177 , 0.0105194 , 0.01080938,\n",
       "       0.01070161, 0.01058681, 0.01063295, 0.01023065, 0.01049765,\n",
       "       0.01047631])"
      ]
     },
     "execution_count": 153,
     "metadata": {},
     "output_type": "execute_result"
    }
   ],
   "source": [
    "age = 65\n",
    "column = 'Female_l'\n",
    "costly_simulation_cached = memory.cache(rolling_window)\n",
    "# averaging of forecasts\n",
    "W_lengths = [3, 4, 5, 6, 7, 8, 20, 41]\n",
    "Vals = np.ones((len(W_lengths), 21))\n",
    "for i, w_len in enumerate(W_lengths):\n",
    "    Vals[i, :] = costly_simulation_cached(mortality, column, age, start_of_test = 41, window_length = w_len)\n",
    "vals = np.mean(Vals, 0)\n",
    "vals"
   ]
  },
  {
   "cell_type": "code",
   "execution_count": 154,
   "metadata": {},
   "outputs": [
    {
     "data": {
      "text/html": [
       "<div>\n",
       "<style scoped>\n",
       "    .dataframe tbody tr th:only-of-type {\n",
       "        vertical-align: middle;\n",
       "    }\n",
       "\n",
       "    .dataframe tbody tr th {\n",
       "        vertical-align: top;\n",
       "    }\n",
       "\n",
       "    .dataframe thead th {\n",
       "        text-align: right;\n",
       "    }\n",
       "</style>\n",
       "<table border=\"1\" class=\"dataframe\">\n",
       "  <thead>\n",
       "    <tr style=\"text-align: right;\">\n",
       "      <th></th>\n",
       "      <th>Year</th>\n",
       "      <th>Age</th>\n",
       "      <th>Female_l</th>\n",
       "    </tr>\n",
       "  </thead>\n",
       "  <tbody>\n",
       "    <tr>\n",
       "      <th>65</th>\n",
       "      <td>1958</td>\n",
       "      <td>65</td>\n",
       "      <td>0.020337</td>\n",
       "    </tr>\n",
       "    <tr>\n",
       "      <th>176</th>\n",
       "      <td>1959</td>\n",
       "      <td>65</td>\n",
       "      <td>0.021817</td>\n",
       "    </tr>\n",
       "    <tr>\n",
       "      <th>287</th>\n",
       "      <td>1960</td>\n",
       "      <td>65</td>\n",
       "      <td>0.019643</td>\n",
       "    </tr>\n",
       "    <tr>\n",
       "      <th>398</th>\n",
       "      <td>1961</td>\n",
       "      <td>65</td>\n",
       "      <td>0.019515</td>\n",
       "    </tr>\n",
       "    <tr>\n",
       "      <th>509</th>\n",
       "      <td>1962</td>\n",
       "      <td>65</td>\n",
       "      <td>0.020237</td>\n",
       "    </tr>\n",
       "    <tr>\n",
       "      <th>...</th>\n",
       "      <td>...</td>\n",
       "      <td>...</td>\n",
       "      <td>...</td>\n",
       "    </tr>\n",
       "    <tr>\n",
       "      <th>6392</th>\n",
       "      <td>2015</td>\n",
       "      <td>65</td>\n",
       "      <td>0.010841</td>\n",
       "    </tr>\n",
       "    <tr>\n",
       "      <th>6503</th>\n",
       "      <td>2016</td>\n",
       "      <td>65</td>\n",
       "      <td>0.010374</td>\n",
       "    </tr>\n",
       "    <tr>\n",
       "      <th>6614</th>\n",
       "      <td>2017</td>\n",
       "      <td>65</td>\n",
       "      <td>0.010702</td>\n",
       "    </tr>\n",
       "    <tr>\n",
       "      <th>6725</th>\n",
       "      <td>2018</td>\n",
       "      <td>65</td>\n",
       "      <td>0.010264</td>\n",
       "    </tr>\n",
       "    <tr>\n",
       "      <th>6836</th>\n",
       "      <td>2019</td>\n",
       "      <td>65</td>\n",
       "      <td>0.010284</td>\n",
       "    </tr>\n",
       "  </tbody>\n",
       "</table>\n",
       "<p>62 rows × 3 columns</p>\n",
       "</div>"
      ],
      "text/plain": [
       "      Year  Age  Female_l\n",
       "65    1958   65  0.020337\n",
       "176   1959   65  0.021817\n",
       "287   1960   65  0.019643\n",
       "398   1961   65  0.019515\n",
       "509   1962   65  0.020237\n",
       "...    ...  ...       ...\n",
       "6392  2015   65  0.010841\n",
       "6503  2016   65  0.010374\n",
       "6614  2017   65  0.010702\n",
       "6725  2018   65  0.010264\n",
       "6836  2019   65  0.010284\n",
       "\n",
       "[62 rows x 3 columns]"
      ]
     },
     "execution_count": 154,
     "metadata": {},
     "output_type": "execute_result"
    }
   ],
   "source": [
    "real_vals = mortality[mortality['Age']==age][['Year','Age',column]]\n",
    "real_vals[column] = real_vals[column].apply(lambda x: np.exp(x))\n",
    "real_vals"
   ]
  },
  {
   "cell_type": "code",
   "execution_count": 155,
   "metadata": {},
   "outputs": [
    {
     "data": {
      "image/png": "[encoded data removed]",
      "text/plain": [
       "<Figure size 720x360 with 1 Axes>"
      ]
     },
     "metadata": {
      "needs_background": "light"
     },
     "output_type": "display_data"
    }
   ],
   "source": [
    "plt.figure(figsize=(10,5))\n",
    "plt.scatter(real_vals['Year'], real_vals[column], label = 'real values')\n",
    "plt.scatter(np.arange(1999,2020,1), vals, label='prediction')\n",
    "plt.xlabel('year')\n",
    "plt.ylabel('mortality')\n",
    "plt.legend()\n",
    "plt.savefig('figure.svg')"
   ]
  },
  {
   "cell_type": "code",
   "execution_count": 156,
   "metadata": {},
   "outputs": [
    {
     "data": {
      "text/plain": [
       "0.0002970607748732406"
      ]
     },
     "execution_count": 156,
     "metadata": {},
     "output_type": "execute_result"
    }
   ],
   "source": [
    "MAE = np.mean(np.abs(vals - real_vals[column].to_numpy()[-21:]))\n",
    "MAE"
   ]
  },
  {
   "cell_type": "markdown",
   "metadata": {},
   "source": [
    "# Jakiś nie działający przypadek:"
   ]
  },
  {
   "cell_type": "code",
   "execution_count": null,
   "metadata": {
    "collapsed": false,
    "pycharm": {
     "name": "#%%\n"
    }
   },
   "outputs": [],
   "source": [
    "# jak cos nie styka\n",
    "# split train test\n",
    "def fit_arima_error(matrix):\n",
    "    d = []\n",
    "    for a in range(5):\n",
    "        for b in range(2):\n",
    "            for c in range(5):\n",
    "                try:\n",
    "                    mod = ARIMA(matrix, order=(a,b,c))\n",
    "                    res = mod.fit()\n",
    "                    d.append([res.llf, a, b, c])\n",
    "                except ConvergenceWarning:\n",
    "                    pass\n",
    "    return d\n",
    "\n",
    "\n",
    "def predict_error(matrix, column: str = 'Female_l', age = 65):\n",
    "    fm = matrix.pivot(index=\"Age\", columns=\"Year\", values=column)\n",
    "    fm_train = fm.iloc[:,0:round(np.shape(fm)[1]*2/3)]\n",
    "    # fm_cross_val = fm.iloc[:,round(np.shape(fm)[1]*2/3):]\n",
    "    fm = fm_train\n",
    "    fm = fm.to_numpy()\n",
    "    a_x = fm.mean(axis=1)\n",
    "    N = np.shape(fm)[0]\n",
    "    T = np.shape(fm)[1]\n",
    "    z_xt = fm - np.matlib.repmat(a_x, T, 1).T\n",
    "    U, S, V = np.linalg.svd(z_xt, full_matrices=True)\n",
    "    bxkt = S[0] * np.dot(U[:, 0].reshape(N, 1), V[0, :].reshape(T, 1).T)\n",
    "\n",
    "    b_x = U[:, 0]/U[:, 0].sum()\n",
    "    k_t = V[0, :]*S[0]*U[:, 0].sum()\n",
    "    a_x = a_x + k_t.sum()*b_x\n",
    "    k_t = k_t - k_t.sum()\n",
    "\n",
    "    d = fit_arima_error(k_t)\n",
    "    for d_i in d:\n",
    "        mod = ARIMA(k_t, order=(d_i[1],d_i[2],d_i[3]))\n",
    "        # mod = ARIMA(k_t, order=(4,1,3))\n",
    "        res = mod.fit()\n",
    "        pred = res.forecast(steps=21)\n",
    "        real_vals = mortality[mortality['Age']==age][['Year','Age',column]]\n",
    "        real_vals[column] = real_vals[column].apply(lambda x: np.exp(x))\n",
    "\n",
    "\n",
    "        plt.figure(figsize=(10,5))\n",
    "        plt.scatter(real_vals['Year'], real_vals[column], label = 'real values')\n",
    "        plt.scatter(np.arange(1999,2020,1), vals, label='prediction')\n",
    "        plt.xlabel('year')\n",
    "        plt.ylabel('mortality')\n",
    "        plt.legend()\n",
    "        plt.show()\n"
   ]
  },
  {
   "cell_type": "code",
   "execution_count": null,
   "metadata": {
    "collapsed": false,
    "pycharm": {
     "name": "#%%\n"
    }
   },
   "outputs": [],
   "source": [
    "age = 65\n",
    "column = 'Male_l'\n",
    "# vals = predict_error(mortality, column, age)\n"
   ]
  },
  {
   "cell_type": "markdown",
   "metadata": {
    "collapsed": false
   },
   "source": []
  },
  {
   "cell_type": "code",
   "execution_count": null,
   "metadata": {
    "collapsed": false,
    "pycharm": {
     "name": "#%%\n"
    }
   },
   "outputs": [
    {
     "name": "stderr",
     "output_type": "stream",
     "text": [
      "C:\\Users\\piotr\\projekty\\diffusion_processes_on_complex_networks\\venv\\lib\\site-packages\\statsmodels\\tsa\\statespace\\sarimax.py:978: UserWarning: Non-invertible starting MA parameters found. Using zeros as starting parameters.\n",
      "  warn('Non-invertible starting MA parameters found.'\n",
      "C:\\Users\\piotr\\projekty\\diffusion_processes_on_complex_networks\\venv\\lib\\site-packages\\statsmodels\\base\\model.py:604: ConvergenceWarning: Maximum Likelihood optimization failed to converge. Check mle_retvals\n",
      "  warnings.warn(\"Maximum Likelihood optimization failed to \"\n",
      "C:\\Users\\piotr\\projekty\\diffusion_processes_on_complex_networks\\venv\\lib\\site-packages\\statsmodels\\base\\model.py:604: ConvergenceWarning: Maximum Likelihood optimization failed to converge. Check mle_retvals\n",
      "  warnings.warn(\"Maximum Likelihood optimization failed to \"\n",
      "C:\\Users\\piotr\\projekty\\diffusion_processes_on_complex_networks\\venv\\lib\\site-packages\\statsmodels\\tsa\\statespace\\sarimax.py:966: UserWarning: Non-stationary starting autoregressive parameters found. Using zeros as starting parameters.\n",
      "  warn('Non-stationary starting autoregressive parameters'\n",
      "C:\\Users\\piotr\\projekty\\diffusion_processes_on_complex_networks\\venv\\lib\\site-packages\\statsmodels\\base\\model.py:604: ConvergenceWarning: Maximum Likelihood optimization failed to converge. Check mle_retvals\n",
      "  warnings.warn(\"Maximum Likelihood optimization failed to \"\n",
      "C:\\Users\\piotr\\projekty\\diffusion_processes_on_complex_networks\\venv\\lib\\site-packages\\statsmodels\\base\\model.py:604: ConvergenceWarning: Maximum Likelihood optimization failed to converge. Check mle_retvals\n",
      "  warnings.warn(\"Maximum Likelihood optimization failed to \"\n",
      "C:\\Users\\piotr\\projekty\\diffusion_processes_on_complex_networks\\venv\\lib\\site-packages\\statsmodels\\base\\model.py:604: ConvergenceWarning: Maximum Likelihood optimization failed to converge. Check mle_retvals\n",
      "  warnings.warn(\"Maximum Likelihood optimization failed to \"\n",
      "C:\\Users\\piotr\\projekty\\diffusion_processes_on_complex_networks\\venv\\lib\\site-packages\\statsmodels\\base\\model.py:604: ConvergenceWarning: Maximum Likelihood optimization failed to converge. Check mle_retvals\n",
      "  warnings.warn(\"Maximum Likelihood optimization failed to \"\n",
      "C:\\Users\\piotr\\projekty\\diffusion_processes_on_complex_networks\\venv\\lib\\site-packages\\statsmodels\\base\\model.py:604: ConvergenceWarning: Maximum Likelihood optimization failed to converge. Check mle_retvals\n",
      "  warnings.warn(\"Maximum Likelihood optimization failed to \"\n",
      "C:\\Users\\piotr\\projekty\\diffusion_processes_on_complex_networks\\venv\\lib\\site-packages\\statsmodels\\base\\model.py:604: ConvergenceWarning: Maximum Likelihood optimization failed to converge. Check mle_retvals\n",
      "  warnings.warn(\"Maximum Likelihood optimization failed to \"\n",
      "C:\\Users\\piotr\\projekty\\diffusion_processes_on_complex_networks\\venv\\lib\\site-packages\\statsmodels\\base\\model.py:604: ConvergenceWarning: Maximum Likelihood optimization failed to converge. Check mle_retvals\n",
      "  warnings.warn(\"Maximum Likelihood optimization failed to \"\n",
      "C:\\Users\\piotr\\projekty\\diffusion_processes_on_complex_networks\\venv\\lib\\site-packages\\statsmodels\\base\\model.py:604: ConvergenceWarning: Maximum Likelihood optimization failed to converge. Check mle_retvals\n",
      "  warnings.warn(\"Maximum Likelihood optimization failed to \"\n",
      "C:\\Users\\piotr\\projekty\\diffusion_processes_on_complex_networks\\venv\\lib\\site-packages\\statsmodels\\base\\model.py:604: ConvergenceWarning: Maximum Likelihood optimization failed to converge. Check mle_retvals\n",
      "  warnings.warn(\"Maximum Likelihood optimization failed to \"\n",
      "C:\\Users\\piotr\\projekty\\diffusion_processes_on_complex_networks\\venv\\lib\\site-packages\\statsmodels\\base\\model.py:604: ConvergenceWarning: Maximum Likelihood optimization failed to converge. Check mle_retvals\n",
      "  warnings.warn(\"Maximum Likelihood optimization failed to \"\n",
      "C:\\Users\\piotr\\projekty\\diffusion_processes_on_complex_networks\\venv\\lib\\site-packages\\statsmodels\\base\\model.py:604: ConvergenceWarning: Maximum Likelihood optimization failed to converge. Check mle_retvals\n",
      "  warnings.warn(\"Maximum Likelihood optimization failed to \"\n",
      "C:\\Users\\piotr\\projekty\\diffusion_processes_on_complex_networks\\venv\\lib\\site-packages\\statsmodels\\base\\model.py:604: ConvergenceWarning: Maximum Likelihood optimization failed to converge. Check mle_retvals\n",
      "  warnings.warn(\"Maximum Likelihood optimization failed to \"\n",
      "C:\\Users\\piotr\\projekty\\diffusion_processes_on_complex_networks\\venv\\lib\\site-packages\\statsmodels\\base\\model.py:604: ConvergenceWarning: Maximum Likelihood optimization failed to converge. Check mle_retvals\n",
      "  warnings.warn(\"Maximum Likelihood optimization failed to \"\n",
      "C:\\Users\\piotr\\projekty\\diffusion_processes_on_complex_networks\\venv\\lib\\site-packages\\statsmodels\\base\\model.py:604: ConvergenceWarning: Maximum Likelihood optimization failed to converge. Check mle_retvals\n",
      "  warnings.warn(\"Maximum Likelihood optimization failed to \"\n",
      "C:\\Users\\piotr\\projekty\\diffusion_processes_on_complex_networks\\venv\\lib\\site-packages\\statsmodels\\base\\model.py:604: ConvergenceWarning: Maximum Likelihood optimization failed to converge. Check mle_retvals\n",
      "  warnings.warn(\"Maximum Likelihood optimization failed to \"\n",
      "C:\\Users\\piotr\\projekty\\diffusion_processes_on_complex_networks\\venv\\lib\\site-packages\\statsmodels\\base\\model.py:604: ConvergenceWarning: Maximum Likelihood optimization failed to converge. Check mle_retvals\n",
      "  warnings.warn(\"Maximum Likelihood optimization failed to \"\n",
      "C:\\Users\\piotr\\projekty\\diffusion_processes_on_complex_networks\\venv\\lib\\site-packages\\statsmodels\\base\\model.py:604: ConvergenceWarning: Maximum Likelihood optimization failed to converge. Check mle_retvals\n",
      "  warnings.warn(\"Maximum Likelihood optimization failed to \"\n",
      "C:\\Users\\piotr\\projekty\\diffusion_processes_on_complex_networks\\venv\\lib\\site-packages\\statsmodels\\base\\model.py:604: ConvergenceWarning: Maximum Likelihood optimization failed to converge. Check mle_retvals\n",
      "  warnings.warn(\"Maximum Likelihood optimization failed to \"\n",
      "C:\\Users\\piotr\\projekty\\diffusion_processes_on_complex_networks\\venv\\lib\\site-packages\\statsmodels\\base\\model.py:604: ConvergenceWarning: Maximum Likelihood optimization failed to converge. Check mle_retvals\n",
      "  warnings.warn(\"Maximum Likelihood optimization failed to \"\n",
      "C:\\Users\\piotr\\projekty\\diffusion_processes_on_complex_networks\\venv\\lib\\site-packages\\statsmodels\\base\\model.py:604: ConvergenceWarning: Maximum Likelihood optimization failed to converge. Check mle_retvals\n",
      "  warnings.warn(\"Maximum Likelihood optimization failed to \"\n",
      "C:\\Users\\piotr\\projekty\\diffusion_processes_on_complex_networks\\venv\\lib\\site-packages\\statsmodels\\base\\model.py:604: ConvergenceWarning: Maximum Likelihood optimization failed to converge. Check mle_retvals\n",
      "  warnings.warn(\"Maximum Likelihood optimization failed to \"\n",
      "C:\\Users\\piotr\\projekty\\diffusion_processes_on_complex_networks\\venv\\lib\\site-packages\\statsmodels\\base\\model.py:604: ConvergenceWarning: Maximum Likelihood optimization failed to converge. Check mle_retvals\n",
      "  warnings.warn(\"Maximum Likelihood optimization failed to \"\n",
      "C:\\Users\\piotr\\projekty\\diffusion_processes_on_complex_networks\\venv\\lib\\site-packages\\statsmodels\\base\\model.py:604: ConvergenceWarning: Maximum Likelihood optimization failed to converge. Check mle_retvals\n",
      "  warnings.warn(\"Maximum Likelihood optimization failed to \"\n",
      "C:\\Users\\piotr\\projekty\\diffusion_processes_on_complex_networks\\venv\\lib\\site-packages\\statsmodels\\base\\model.py:604: ConvergenceWarning: Maximum Likelihood optimization failed to converge. Check mle_retvals\n",
      "  warnings.warn(\"Maximum Likelihood optimization failed to \"\n",
      "C:\\Users\\piotr\\projekty\\diffusion_processes_on_complex_networks\\venv\\lib\\site-packages\\statsmodels\\base\\model.py:604: ConvergenceWarning: Maximum Likelihood optimization failed to converge. Check mle_retvals\n",
      "  warnings.warn(\"Maximum Likelihood optimization failed to \"\n",
      "C:\\Users\\piotr\\projekty\\diffusion_processes_on_complex_networks\\venv\\lib\\site-packages\\statsmodels\\base\\model.py:604: ConvergenceWarning: Maximum Likelihood optimization failed to converge. Check mle_retvals\n",
      "  warnings.warn(\"Maximum Likelihood optimization failed to \"\n",
      "C:\\Users\\piotr\\projekty\\diffusion_processes_on_complex_networks\\venv\\lib\\site-packages\\statsmodels\\base\\model.py:604: ConvergenceWarning: Maximum Likelihood optimization failed to converge. Check mle_retvals\n",
      "  warnings.warn(\"Maximum Likelihood optimization failed to \"\n",
      "C:\\Users\\piotr\\projekty\\diffusion_processes_on_complex_networks\\venv\\lib\\site-packages\\statsmodels\\base\\model.py:604: ConvergenceWarning: Maximum Likelihood optimization failed to converge. Check mle_retvals\n",
      "  warnings.warn(\"Maximum Likelihood optimization failed to \"\n",
      "C:\\Users\\piotr\\projekty\\diffusion_processes_on_complex_networks\\venv\\lib\\site-packages\\statsmodels\\base\\model.py:604: ConvergenceWarning: Maximum Likelihood optimization failed to converge. Check mle_retvals\n",
      "  warnings.warn(\"Maximum Likelihood optimization failed to \"\n",
      "C:\\Users\\piotr\\projekty\\diffusion_processes_on_complex_networks\\venv\\lib\\site-packages\\statsmodels\\base\\model.py:604: ConvergenceWarning: Maximum Likelihood optimization failed to converge. Check mle_retvals\n",
      "  warnings.warn(\"Maximum Likelihood optimization failed to \"\n",
      "C:\\Users\\piotr\\projekty\\diffusion_processes_on_complex_networks\\venv\\lib\\site-packages\\statsmodels\\base\\model.py:604: ConvergenceWarning: Maximum Likelihood optimization failed to converge. Check mle_retvals\n",
      "  warnings.warn(\"Maximum Likelihood optimization failed to \"\n",
      "C:\\Users\\piotr\\projekty\\diffusion_processes_on_complex_networks\\venv\\lib\\site-packages\\statsmodels\\base\\model.py:604: ConvergenceWarning: Maximum Likelihood optimization failed to converge. Check mle_retvals\n",
      "  warnings.warn(\"Maximum Likelihood optimization failed to \"\n",
      "C:\\Users\\piotr\\projekty\\diffusion_processes_on_complex_networks\\venv\\lib\\site-packages\\statsmodels\\base\\model.py:604: ConvergenceWarning: Maximum Likelihood optimization failed to converge. Check mle_retvals\n",
      "  warnings.warn(\"Maximum Likelihood optimization failed to \"\n",
      "C:\\Users\\piotr\\projekty\\diffusion_processes_on_complex_networks\\venv\\lib\\site-packages\\statsmodels\\base\\model.py:604: ConvergenceWarning: Maximum Likelihood optimization failed to converge. Check mle_retvals\n",
      "  warnings.warn(\"Maximum Likelihood optimization failed to \"\n",
      "C:\\Users\\piotr\\projekty\\diffusion_processes_on_complex_networks\\venv\\lib\\site-packages\\statsmodels\\base\\model.py:604: ConvergenceWarning: Maximum Likelihood optimization failed to converge. Check mle_retvals\n",
      "  warnings.warn(\"Maximum Likelihood optimization failed to \"\n",
      "C:\\Users\\piotr\\projekty\\diffusion_processes_on_complex_networks\\venv\\lib\\site-packages\\statsmodels\\base\\model.py:604: ConvergenceWarning: Maximum Likelihood optimization failed to converge. Check mle_retvals\n",
      "  warnings.warn(\"Maximum Likelihood optimization failed to \"\n",
      "C:\\Users\\piotr\\projekty\\diffusion_processes_on_complex_networks\\venv\\lib\\site-packages\\statsmodels\\base\\model.py:604: ConvergenceWarning: Maximum Likelihood optimization failed to converge. Check mle_retvals\n",
      "  warnings.warn(\"Maximum Likelihood optimization failed to \"\n",
      "C:\\Users\\piotr\\projekty\\diffusion_processes_on_complex_networks\\venv\\lib\\site-packages\\statsmodels\\base\\model.py:604: ConvergenceWarning: Maximum Likelihood optimization failed to converge. Check mle_retvals\n",
      "  warnings.warn(\"Maximum Likelihood optimization failed to \"\n",
      "C:\\Users\\piotr\\projekty\\diffusion_processes_on_complex_networks\\venv\\lib\\site-packages\\statsmodels\\base\\model.py:604: ConvergenceWarning: Maximum Likelihood optimization failed to converge. Check mle_retvals\n",
      "  warnings.warn(\"Maximum Likelihood optimization failed to \"\n",
      "C:\\Users\\piotr\\projekty\\diffusion_processes_on_complex_networks\\venv\\lib\\site-packages\\statsmodels\\base\\model.py:604: ConvergenceWarning: Maximum Likelihood optimization failed to converge. Check mle_retvals\n",
      "  warnings.warn(\"Maximum Likelihood optimization failed to \"\n",
      "C:\\Users\\piotr\\projekty\\diffusion_processes_on_complex_networks\\venv\\lib\\site-packages\\statsmodels\\base\\model.py:604: ConvergenceWarning: Maximum Likelihood optimization failed to converge. Check mle_retvals\n",
      "  warnings.warn(\"Maximum Likelihood optimization failed to \"\n"
     ]
    },
    {
     "name": "stdout",
     "output_type": "stream",
     "text": [
      "[[-112.15088027133137, 0, 0, 0], [-89.30898352319697, 0, 0, 1], [-71.39238715763278, 0, 0, 2], [-60.604046772633026, 0, 0, 3], [-56.431135547761144, 0, 0, 4], [-35.94647403889161, 0, 1, 0], [-35.503091016094935, 0, 1, 1], [-34.85866247175966, 0, 1, 2], [-34.73777978576339, 0, 1, 3], [-32.147531828543464, 0, 1, 4], [-45.03222264122037, 0, 2, 0], [-29.27066108074094, 0, 2, 1], [-27.983189671645825, 0, 2, 2], [-27.641608708875143, 0, 2, 3], [-27.34102633490344, 0, 2, 4], [-64.8862810402836, 0, 3, 0], [-46.19829806177408, 0, 3, 1], [-32.478526689954165, 0, 3, 2], [-31.539547682479782, 0, 3, 3], [-31.359228480232066, 0, 3, 4], [-84.13806644163853, 0, 4, 0], [-65.46483612421282, 0, 4, 1], [-48.88557809155118, 0, 4, 2], [-37.237792967405575, 0, 4, 3], [-36.610169869076415, 0, 4, 4], [-39.23560029449478, 1, 0, 0], [-38.77710587400632, 1, 0, 1], [-38.143281756106475, 1, 0, 2], [-38.040457770351885, 1, 0, 3], [-35.45656078054788, 1, 0, 4], [-35.31856092295754, 1, 1, 0], [-29.631580731508024, 1, 1, 1], [-28.33610762853305, 1, 1, 2], [-27.976380585231738, 1, 1, 3], [-31.84930579518935, 1, 1, 4], [-36.94987308923236, 1, 2, 0], [-28.301287611466357, 1, 2, 1], [-27.459041817019187, 1, 2, 2], [-27.96570303719995, 1, 2, 3], [-26.817200858699366, 1, 2, 4], [-51.71683010649763, 1, 3, 0], [-38.80224144856508, 1, 3, 1], [-31.709254185258683, 1, 3, 2], [-31.780888263442712, 1, 3, 3], [-31.496654267382603, 1, 3, 4], [-67.61842844294114, 1, 4, 0], [-53.245619791002966, 1, 4, 1], [-42.27021883783968, 1, 4, 2], [-36.68787445334572, 1, 4, 3], [-37.13446244944924, 1, 4, 4], [-38.5860570272582, 2, 0, 0], [-39.220392557700386, 2, 0, 1], [-37.902140974804965, 2, 0, 2], [-37.899529898062326, 2, 0, 3], [-35.688599532767235, 2, 0, 4], [-34.070737497058005, 2, 1, 0], [-28.66498621066791, 2, 1, 1], [-27.780078428412033, 2, 1, 2], [-28.32940525081213, 2, 1, 3], [-27.142205719821753, 2, 1, 4], [-35.18995567175153, 2, 2, 0], [-28.023719854272663, 2, 2, 1], [-28.263577524629806, 2, 2, 2], [-27.995590072011087, 2, 2, 3], [-25.76381320863525, 2, 2, 4], [-48.53700269411931, 2, 3, 0], [-37.3353397218707, 2, 3, 1], [-32.355988212557435, 2, 3, 2], [-31.651429050123557, 2, 3, 3], [-31.223194165322496, 2, 3, 4], [-63.12430835632479, 2, 4, 0], [-50.47448751840828, 2, 4, 1], [-18.531104674424014, 2, 4, 2], [-36.648766873345984, 2, 4, 3], [-43.130335301193284, 2, 4, 4], [-37.37239527865932, 3, 0, 0], [-32.26969336403812, 3, 0, 1], [-36.75505280636445, 3, 0, 2], [-35.85800281160421, 3, 0, 3], [-31.767418318305392, 3, 0, 4], [-33.64860136515639, 3, 1, 0], [-28.375951832077728, 3, 1, 1], [-28.63029908028466, 3, 1, 2], [-28.397635741983933, 3, 1, 3], [-26.175345580728717, 3, 1, 4], [-30.82777904006304, 3, 2, 0], [-27.159424720446143, 3, 2, 1], [-27.02817045836428, 3, 2, 2], [-25.9048959115526, 3, 2, 3], [-25.72562064117967, 3, 2, 4], [-42.79784520657289, 3, 3, 0], [-33.45361991684893, 3, 3, 1], [-30.86637393512148, 3, 3, 2], [-30.722302657667136, 3, 3, 3], [-29.532876407849646, 3, 3, 4], [-57.53675274805735, 3, 4, 0], [-45.28876736568607, 3, 4, 1], [-37.775903509443985, 3, 4, 2], [-36.17102956620035, 3, 4, 3], [-36.00444032692638, 3, 4, 4], [-36.96031570422941, 4, 0, 0], [-32.02222403596554, 4, 0, 1], [-35.61288902439562, 4, 0, 2], [-31.153365461412054, 4, 0, 3], [-32.039387342542604, 4, 0, 4], [-30.6171499346662, 4, 1, 0], [-27.501373366889254, 4, 1, 1], [-27.385841610334616, 4, 1, 2], [-26.290500496250928, 4, 1, 3], [-26.184089256095525, 4, 1, 4], [-29.815136142713047, 4, 2, 0], [-26.942807620740794, 4, 2, 1], [-27.159668081216502, 4, 2, 2], [-25.79287041502551, 4, 2, 3], [-25.709678215949264, 4, 2, 4], [-38.04804104299273, 4, 3, 0], [-32.66091681070356, 4, 3, 1], [-32.503048436235595, 4, 3, 2], [-30.866193367382863, 4, 3, 3], [-28.294465742267402, 4, 3, 4], [-49.70281341382001, 4, 4, 0], [-41.06129174503965, 4, 4, 1], [-37.230242791177794, 4, 4, 2], [-37.010107378846044, 4, 4, 3], [-38.864442430385395, 4, 4, 4]]\n",
      "fit arima: (-18.531104674424014, 2, 4, 2)\n"
     ]
    },
    {
     "name": "stderr",
     "output_type": "stream",
     "text": [
      "C:\\Users\\piotr\\projekty\\diffusion_processes_on_complex_networks\\venv\\lib\\site-packages\\statsmodels\\base\\model.py:604: ConvergenceWarning: Maximum Likelihood optimization failed to converge. Check mle_retvals\n",
      "  warnings.warn(\"Maximum Likelihood optimization failed to \"\n",
      "C:\\Users\\piotr\\AppData\\Local\\Temp\\ipykernel_14552\\1635334433.py:45: RuntimeWarning: overflow encountered in exp\n",
      "  return np.exp(a_x[age] + b_x[age]*pred)\n"
     ]
    },
    {
     "name": "stdout",
     "output_type": "stream",
     "text": [
      "                               SARIMAX Results                                \n",
      "==============================================================================\n",
      "Dep. Variable:                      y   No. Observations:                   41\n",
      "Model:                 ARIMA(2, 4, 2)   Log Likelihood                 -18.531\n",
      "Date:                Fri, 10 Jun 2022   AIC                             47.062\n",
      "Time:                        14:49:08   BIC                             55.117\n",
      "Sample:                             0   HQIC                            49.902\n",
      "                                 - 41                                         \n",
      "Covariance Type:                  opg                                         \n",
      "==============================================================================\n",
      "                 coef    std err          z      P>|z|      [0.025      0.975]\n",
      "------------------------------------------------------------------------------\n",
      "ar.L1          0.0008   1.98e-08   4.13e+04      0.000       0.001       0.001\n",
      "ar.L2          0.9992   1.89e-05   5.28e+04      0.000       0.999       0.999\n",
      "ma.L1         -1.9998      0.009   -222.342      0.000      -2.017      -1.982\n",
      "ma.L2          0.9998      0.010    101.076      0.000       0.980       1.019\n",
      "sigma2         8.4132   1.44e-05   5.85e+05      0.000       8.413       8.413\n",
      "===================================================================================\n",
      "Ljung-Box (L1) (Q):                   0.22   Jarque-Bera (JB):               299.52\n",
      "Prob(Q):                              0.64   Prob(JB):                         0.00\n",
      "Heteroskedasticity (H):               0.00   Skew:                            -2.41\n",
      "Prob(H) (two-sided):                  0.00   Kurtosis:                        16.08\n",
      "===================================================================================\n",
      "\n",
      "Warnings:\n",
      "[1] Covariance matrix calculated using the outer product of gradients (complex-step).\n",
      "[2] Covariance matrix is singular or near-singular, with condition number 4.69e+21. Standard errors may be unstable.\n",
      "[ 5829.87718189  6529.99108427  7291.1168233   8116.27395874\n",
      "  9009.32585065  9973.47548729 11012.76843098 12130.59109746\n",
      " 13331.17125229 14618.07873766 15995.72352335 17467.85887696\n",
      " 19039.07697349 20713.31450492 22495.34585241 24389.29113134\n",
      " 26400.10692999 28532.0967861  30790.39949605 33179.50201894\n",
      " 35704.72536021]\n"
     ]
    },
    {
     "data": {
      "image/png": "[encoded data removed]",
      "text/plain": [
       "<Figure size 720x360 with 1 Axes>"
      ]
     },
     "metadata": {
      "needs_background": "light"
     },
     "output_type": "display_data"
    }
   ],
   "source": [
    "age = 65\n",
    "column = 'Female_l'\n",
    "vals = predict(mortality, column, age)\n",
    "real_vals = mortality[mortality['Age']==age][['Year','Age',column]]\n",
    "real_vals[column] = real_vals[column].apply(lambda x: np.exp(x))\n",
    "plt.figure(figsize=(10,5))\n",
    "plt.scatter(real_vals['Year'], real_vals[column], label = 'real values')\n",
    "plt.scatter(np.arange(1999,2020,1), vals, label='prediction')\n",
    "plt.xlabel('year')\n",
    "plt.ylabel('mortality')\n",
    "plt.legend()\n",
    "plt.savefig('figure.svg')"
   ]
  },
  {
   "cell_type": "code",
   "execution_count": null,
   "metadata": {
    "collapsed": false,
    "pycharm": {
     "name": "#%%\n"
    }
   },
   "outputs": [],
   "source": []
  }
 ],
 "metadata": {
  "kernelspec": {
   "display_name": "Python 3.10.1 64-bit",
   "language": "python",
   "name": "python3"
  },
  "language_info": {
   "codemirror_mode": {
    "name": "ipython",
    "version": 3
   },
   "file_extension": ".py",
   "mimetype": "text/x-python",
   "name": "python",
   "nbconvert_exporter": "python",
   "pygments_lexer": "ipython3",
   "version": "3.10.1"
  },
  "vscode": {
   "interpreter": {
    "hash": "d38922d36489c8af6ee2b2d50f32a85ff90f4f0643b51da8d07090b2c64ad6eb"
   }
  }
 },
 "nbformat": 4,
 "nbformat_minor": 0
}
