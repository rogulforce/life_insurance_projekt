{
 "cells": [
  {
   "cell_type": "code",
   "execution_count": 32,
   "metadata": {
    "collapsed": true
   },
   "outputs": [],
   "source": [
    "# from leecarter import leecarter\n",
    "import pandas as pd\n",
    "\n",
    "import numpy as np\n",
    "import numpy.matlib\n",
    "from matplotlib import pyplot as plt\n",
    "\n",
    "from pmdarima import arima"
   ]
  },
  {
   "cell_type": "code",
   "execution_count": 33,
   "metadata": {
    "collapsed": false,
    "pycharm": {
     "name": "#%%\n"
    }
   },
   "outputs": [
    {
     "data": {
      "text/html": [
       "<div>\n",
       "<style scoped>\n",
       "    .dataframe tbody tr th:only-of-type {\n",
       "        vertical-align: middle;\n",
       "    }\n",
       "\n",
       "    .dataframe tbody tr th {\n",
       "        vertical-align: top;\n",
       "    }\n",
       "\n",
       "    .dataframe thead th {\n",
       "        text-align: right;\n",
       "    }\n",
       "</style>\n",
       "<table border=\"1\" class=\"dataframe\">\n",
       "  <thead>\n",
       "    <tr style=\"text-align: right;\">\n",
       "      <th></th>\n",
       "      <th>Year</th>\n",
       "      <th>Age</th>\n",
       "      <th>Female_l</th>\n",
       "      <th>Male_l</th>\n",
       "      <th>Total_l</th>\n",
       "    </tr>\n",
       "  </thead>\n",
       "  <tbody>\n",
       "    <tr>\n",
       "      <th>0</th>\n",
       "      <td>1958</td>\n",
       "      <td>0</td>\n",
       "      <td>-2.723920</td>\n",
       "      <td>-2.480397</td>\n",
       "      <td>-2.591788</td>\n",
       "    </tr>\n",
       "    <tr>\n",
       "      <th>1</th>\n",
       "      <td>1958</td>\n",
       "      <td>1</td>\n",
       "      <td>-5.352562</td>\n",
       "      <td>-5.291540</td>\n",
       "      <td>-5.320972</td>\n",
       "    </tr>\n",
       "    <tr>\n",
       "      <th>2</th>\n",
       "      <td>1958</td>\n",
       "      <td>2</td>\n",
       "      <td>-6.357324</td>\n",
       "      <td>-6.197751</td>\n",
       "      <td>-6.272237</td>\n",
       "    </tr>\n",
       "    <tr>\n",
       "      <th>3</th>\n",
       "      <td>1958</td>\n",
       "      <td>3</td>\n",
       "      <td>-6.732962</td>\n",
       "      <td>-6.527266</td>\n",
       "      <td>-6.622576</td>\n",
       "    </tr>\n",
       "    <tr>\n",
       "      <th>4</th>\n",
       "      <td>1958</td>\n",
       "      <td>4</td>\n",
       "      <td>-7.066751</td>\n",
       "      <td>-6.837297</td>\n",
       "      <td>-6.943382</td>\n",
       "    </tr>\n",
       "    <tr>\n",
       "      <th>...</th>\n",
       "      <td>...</td>\n",
       "      <td>...</td>\n",
       "      <td>...</td>\n",
       "      <td>...</td>\n",
       "      <td>...</td>\n",
       "    </tr>\n",
       "    <tr>\n",
       "      <th>6867</th>\n",
       "      <td>2019</td>\n",
       "      <td>96</td>\n",
       "      <td>-1.240243</td>\n",
       "      <td>-1.143835</td>\n",
       "      <td>-1.220129</td>\n",
       "    </tr>\n",
       "    <tr>\n",
       "      <th>6868</th>\n",
       "      <td>2019</td>\n",
       "      <td>97</td>\n",
       "      <td>-1.123130</td>\n",
       "      <td>-1.046502</td>\n",
       "      <td>-1.108135</td>\n",
       "    </tr>\n",
       "    <tr>\n",
       "      <th>6869</th>\n",
       "      <td>2019</td>\n",
       "      <td>98</td>\n",
       "      <td>-1.127061</td>\n",
       "      <td>-0.963167</td>\n",
       "      <td>-1.093425</td>\n",
       "    </tr>\n",
       "    <tr>\n",
       "      <th>6870</th>\n",
       "      <td>2019</td>\n",
       "      <td>99</td>\n",
       "      <td>-0.980088</td>\n",
       "      <td>-0.864780</td>\n",
       "      <td>-0.957410</td>\n",
       "    </tr>\n",
       "    <tr>\n",
       "      <th>6871</th>\n",
       "      <td>2019</td>\n",
       "      <td>100</td>\n",
       "      <td>-1.153616</td>\n",
       "      <td>-1.143442</td>\n",
       "      <td>-1.151820</td>\n",
       "    </tr>\n",
       "  </tbody>\n",
       "</table>\n",
       "<p>6262 rows × 5 columns</p>\n",
       "</div>"
      ],
      "text/plain": [
       "      Year  Age  Female_l    Male_l   Total_l\n",
       "0     1958    0 -2.723920 -2.480397 -2.591788\n",
       "1     1958    1 -5.352562 -5.291540 -5.320972\n",
       "2     1958    2 -6.357324 -6.197751 -6.272237\n",
       "3     1958    3 -6.732962 -6.527266 -6.622576\n",
       "4     1958    4 -7.066751 -6.837297 -6.943382\n",
       "...    ...  ...       ...       ...       ...\n",
       "6867  2019   96 -1.240243 -1.143835 -1.220129\n",
       "6868  2019   97 -1.123130 -1.046502 -1.108135\n",
       "6869  2019   98 -1.127061 -0.963167 -1.093425\n",
       "6870  2019   99 -0.980088 -0.864780 -0.957410\n",
       "6871  2019  100 -1.153616 -1.143442 -1.151820\n",
       "\n",
       "[6262 rows x 5 columns]"
      ]
     },
     "execution_count": 33,
     "metadata": {},
     "output_type": "execute_result"
    }
   ],
   "source": [
    "mortality = pd.read_csv('death_rates2.txt',delim_whitespace=True)\n",
    "mortality = mortality[mortality['Age'] != '110+']\n",
    "mortality['Age'] = mortality['Age'].astype(int)\n",
    "mortality['Year'] = mortality['Year'].astype(int)\n",
    "mortality = mortality[mortality['Age'] <= 100]\n",
    "mortality['Female_l'] = np.log(mortality['Female'].astype(float))\n",
    "mortality['Male_l'] = np.log(mortality['Male'].astype(float))\n",
    "mortality['Total_l'] = np.log(mortality['Total'].astype(float))\n",
    "mortality = mortality[['Year', 'Age', 'Female_l', 'Male_l', 'Total_l']]\n",
    "mortality"
   ]
  },
  {
   "cell_type": "code",
   "execution_count": 34,
   "metadata": {
    "collapsed": false,
    "pycharm": {
     "name": "#%%\n"
    }
   },
   "outputs": [],
   "source": [
    "# train test split"
   ]
  },
  {
   "cell_type": "code",
   "execution_count": 35,
   "metadata": {
    "collapsed": false,
    "pycharm": {
     "name": "#%%\n"
    }
   },
   "outputs": [
    {
     "data": {
      "text/html": [
       "<div>\n",
       "<style scoped>\n",
       "    .dataframe tbody tr th:only-of-type {\n",
       "        vertical-align: middle;\n",
       "    }\n",
       "\n",
       "    .dataframe tbody tr th {\n",
       "        vertical-align: top;\n",
       "    }\n",
       "\n",
       "    .dataframe thead th {\n",
       "        text-align: right;\n",
       "    }\n",
       "</style>\n",
       "<table border=\"1\" class=\"dataframe\">\n",
       "  <thead>\n",
       "    <tr style=\"text-align: right;\">\n",
       "      <th>Year</th>\n",
       "      <th>1999</th>\n",
       "      <th>2000</th>\n",
       "      <th>2001</th>\n",
       "      <th>2002</th>\n",
       "      <th>2003</th>\n",
       "      <th>2004</th>\n",
       "      <th>2005</th>\n",
       "      <th>2006</th>\n",
       "      <th>2007</th>\n",
       "      <th>2008</th>\n",
       "      <th>...</th>\n",
       "      <th>2010</th>\n",
       "      <th>2011</th>\n",
       "      <th>2012</th>\n",
       "      <th>2013</th>\n",
       "      <th>2014</th>\n",
       "      <th>2015</th>\n",
       "      <th>2016</th>\n",
       "      <th>2017</th>\n",
       "      <th>2018</th>\n",
       "      <th>2019</th>\n",
       "    </tr>\n",
       "    <tr>\n",
       "      <th>Age</th>\n",
       "      <th></th>\n",
       "      <th></th>\n",
       "      <th></th>\n",
       "      <th></th>\n",
       "      <th></th>\n",
       "      <th></th>\n",
       "      <th></th>\n",
       "      <th></th>\n",
       "      <th></th>\n",
       "      <th></th>\n",
       "      <th></th>\n",
       "      <th></th>\n",
       "      <th></th>\n",
       "      <th></th>\n",
       "      <th></th>\n",
       "      <th></th>\n",
       "      <th></th>\n",
       "      <th></th>\n",
       "      <th></th>\n",
       "      <th></th>\n",
       "      <th></th>\n",
       "    </tr>\n",
       "  </thead>\n",
       "  <tbody>\n",
       "    <tr>\n",
       "      <th>0</th>\n",
       "      <td>-4.843174</td>\n",
       "      <td>-4.921252</td>\n",
       "      <td>-4.990539</td>\n",
       "      <td>-5.015246</td>\n",
       "      <td>-5.069112</td>\n",
       "      <td>-5.102586</td>\n",
       "      <td>-5.149553</td>\n",
       "      <td>-5.250099</td>\n",
       "      <td>-5.242126</td>\n",
       "      <td>-5.282838</td>\n",
       "      <td>...</td>\n",
       "      <td>-5.429110</td>\n",
       "      <td>-5.478641</td>\n",
       "      <td>-5.458017</td>\n",
       "      <td>-5.480079</td>\n",
       "      <td>-5.512501</td>\n",
       "      <td>-5.613302</td>\n",
       "      <td>-5.608654</td>\n",
       "      <td>-5.605114</td>\n",
       "      <td>-5.652424</td>\n",
       "      <td>-5.607836</td>\n",
       "    </tr>\n",
       "    <tr>\n",
       "      <th>1</th>\n",
       "      <td>-7.557843</td>\n",
       "      <td>-7.643810</td>\n",
       "      <td>-7.627246</td>\n",
       "      <td>-7.721941</td>\n",
       "      <td>-7.986565</td>\n",
       "      <td>-7.915613</td>\n",
       "      <td>-7.893932</td>\n",
       "      <td>-7.902008</td>\n",
       "      <td>-8.056609</td>\n",
       "      <td>-7.977780</td>\n",
       "      <td>...</td>\n",
       "      <td>-8.108400</td>\n",
       "      <td>-8.177156</td>\n",
       "      <td>-8.403865</td>\n",
       "      <td>-8.170064</td>\n",
       "      <td>-8.149084</td>\n",
       "      <td>-8.173603</td>\n",
       "      <td>-8.368773</td>\n",
       "      <td>-8.330714</td>\n",
       "      <td>-8.507243</td>\n",
       "      <td>-8.426439</td>\n",
       "    </tr>\n",
       "    <tr>\n",
       "      <th>2</th>\n",
       "      <td>-8.050319</td>\n",
       "      <td>-8.390561</td>\n",
       "      <td>-8.302082</td>\n",
       "      <td>-8.266434</td>\n",
       "      <td>-8.426439</td>\n",
       "      <td>-8.679712</td>\n",
       "      <td>-8.209708</td>\n",
       "      <td>-8.195110</td>\n",
       "      <td>-8.595155</td>\n",
       "      <td>-8.399410</td>\n",
       "      <td>...</td>\n",
       "      <td>-8.563237</td>\n",
       "      <td>-8.798231</td>\n",
       "      <td>-8.940313</td>\n",
       "      <td>-8.818298</td>\n",
       "      <td>-8.697517</td>\n",
       "      <td>-8.825078</td>\n",
       "      <td>-8.740337</td>\n",
       "      <td>-8.932709</td>\n",
       "      <td>-8.746606</td>\n",
       "      <td>-9.036387</td>\n",
       "    </tr>\n",
       "    <tr>\n",
       "      <th>3</th>\n",
       "      <td>-8.206039</td>\n",
       "      <td>-8.512206</td>\n",
       "      <td>-8.314252</td>\n",
       "      <td>-8.752916</td>\n",
       "      <td>-8.881037</td>\n",
       "      <td>-8.679712</td>\n",
       "      <td>-8.468403</td>\n",
       "      <td>-8.622554</td>\n",
       "      <td>-8.600575</td>\n",
       "      <td>-8.685612</td>\n",
       "      <td>...</td>\n",
       "      <td>-8.910236</td>\n",
       "      <td>-8.791630</td>\n",
       "      <td>-9.044826</td>\n",
       "      <td>-8.873868</td>\n",
       "      <td>-8.662219</td>\n",
       "      <td>-9.326874</td>\n",
       "      <td>-9.349602</td>\n",
       "      <td>-9.220391</td>\n",
       "      <td>-9.061920</td>\n",
       "      <td>-9.282911</td>\n",
       "    </tr>\n",
       "    <tr>\n",
       "      <th>4</th>\n",
       "      <td>-8.449535</td>\n",
       "      <td>-8.517193</td>\n",
       "      <td>-8.940313</td>\n",
       "      <td>-8.547652</td>\n",
       "      <td>-8.852666</td>\n",
       "      <td>-8.611504</td>\n",
       "      <td>-8.859684</td>\n",
       "      <td>-8.709565</td>\n",
       "      <td>-8.622554</td>\n",
       "      <td>-8.628125</td>\n",
       "      <td>...</td>\n",
       "      <td>-8.895530</td>\n",
       "      <td>-8.987197</td>\n",
       "      <td>-9.133379</td>\n",
       "      <td>-8.971323</td>\n",
       "      <td>-9.408791</td>\n",
       "      <td>-9.190538</td>\n",
       "      <td>-9.672376</td>\n",
       "      <td>-9.408791</td>\n",
       "      <td>-9.220391</td>\n",
       "      <td>-9.338174</td>\n",
       "    </tr>\n",
       "    <tr>\n",
       "      <th>...</th>\n",
       "      <td>...</td>\n",
       "      <td>...</td>\n",
       "      <td>...</td>\n",
       "      <td>...</td>\n",
       "      <td>...</td>\n",
       "      <td>...</td>\n",
       "      <td>...</td>\n",
       "      <td>...</td>\n",
       "      <td>...</td>\n",
       "      <td>...</td>\n",
       "      <td>...</td>\n",
       "      <td>...</td>\n",
       "      <td>...</td>\n",
       "      <td>...</td>\n",
       "      <td>...</td>\n",
       "      <td>...</td>\n",
       "      <td>...</td>\n",
       "      <td>...</td>\n",
       "      <td>...</td>\n",
       "      <td>...</td>\n",
       "      <td>...</td>\n",
       "    </tr>\n",
       "    <tr>\n",
       "      <th>96</th>\n",
       "      <td>-0.998260</td>\n",
       "      <td>-1.033342</td>\n",
       "      <td>-1.040172</td>\n",
       "      <td>-1.126577</td>\n",
       "      <td>-1.004456</td>\n",
       "      <td>-1.065000</td>\n",
       "      <td>-1.031281</td>\n",
       "      <td>-1.166703</td>\n",
       "      <td>-1.111853</td>\n",
       "      <td>-1.070824</td>\n",
       "      <td>...</td>\n",
       "      <td>-1.099048</td>\n",
       "      <td>-1.068254</td>\n",
       "      <td>-1.203013</td>\n",
       "      <td>-1.114105</td>\n",
       "      <td>-1.254789</td>\n",
       "      <td>-1.233072</td>\n",
       "      <td>-1.149841</td>\n",
       "      <td>-1.238654</td>\n",
       "      <td>-1.178698</td>\n",
       "      <td>-1.240243</td>\n",
       "    </tr>\n",
       "    <tr>\n",
       "      <th>97</th>\n",
       "      <td>-0.886390</td>\n",
       "      <td>-0.990468</td>\n",
       "      <td>-0.985196</td>\n",
       "      <td>-1.037349</td>\n",
       "      <td>-1.019592</td>\n",
       "      <td>-1.018013</td>\n",
       "      <td>-1.001644</td>\n",
       "      <td>-1.068789</td>\n",
       "      <td>-0.993906</td>\n",
       "      <td>-1.087402</td>\n",
       "      <td>...</td>\n",
       "      <td>-0.983176</td>\n",
       "      <td>-1.106997</td>\n",
       "      <td>-1.027253</td>\n",
       "      <td>-1.089074</td>\n",
       "      <td>-1.106607</td>\n",
       "      <td>-1.070538</td>\n",
       "      <td>-1.218437</td>\n",
       "      <td>-1.043954</td>\n",
       "      <td>-1.144139</td>\n",
       "      <td>-1.123130</td>\n",
       "    </tr>\n",
       "    <tr>\n",
       "      <th>98</th>\n",
       "      <td>-0.899704</td>\n",
       "      <td>-0.913220</td>\n",
       "      <td>-0.865408</td>\n",
       "      <td>-0.882230</td>\n",
       "      <td>-0.923388</td>\n",
       "      <td>-0.971045</td>\n",
       "      <td>-0.978227</td>\n",
       "      <td>-0.939869</td>\n",
       "      <td>-0.899171</td>\n",
       "      <td>-0.966201</td>\n",
       "      <td>...</td>\n",
       "      <td>-0.905155</td>\n",
       "      <td>-0.999246</td>\n",
       "      <td>-0.983152</td>\n",
       "      <td>-0.943731</td>\n",
       "      <td>-1.127864</td>\n",
       "      <td>-1.027605</td>\n",
       "      <td>-1.037270</td>\n",
       "      <td>-1.065322</td>\n",
       "      <td>-0.978714</td>\n",
       "      <td>-1.127061</td>\n",
       "    </tr>\n",
       "    <tr>\n",
       "      <th>99</th>\n",
       "      <td>-0.753791</td>\n",
       "      <td>-0.859452</td>\n",
       "      <td>-0.905939</td>\n",
       "      <td>-0.828110</td>\n",
       "      <td>-0.857208</td>\n",
       "      <td>-0.920454</td>\n",
       "      <td>-0.934165</td>\n",
       "      <td>-0.879766</td>\n",
       "      <td>-0.896121</td>\n",
       "      <td>-0.878383</td>\n",
       "      <td>...</td>\n",
       "      <td>-0.968700</td>\n",
       "      <td>-0.966545</td>\n",
       "      <td>-0.988351</td>\n",
       "      <td>-0.945766</td>\n",
       "      <td>-0.914657</td>\n",
       "      <td>-0.926041</td>\n",
       "      <td>-1.027379</td>\n",
       "      <td>-0.935379</td>\n",
       "      <td>-1.011968</td>\n",
       "      <td>-0.980088</td>\n",
       "    </tr>\n",
       "    <tr>\n",
       "      <th>100</th>\n",
       "      <td>-0.637934</td>\n",
       "      <td>-0.970024</td>\n",
       "      <td>-0.829251</td>\n",
       "      <td>-0.992497</td>\n",
       "      <td>-0.861067</td>\n",
       "      <td>-0.796303</td>\n",
       "      <td>-0.906462</td>\n",
       "      <td>-0.862196</td>\n",
       "      <td>-0.941947</td>\n",
       "      <td>-1.043278</td>\n",
       "      <td>...</td>\n",
       "      <td>-0.821094</td>\n",
       "      <td>-1.016780</td>\n",
       "      <td>-0.926998</td>\n",
       "      <td>-0.943212</td>\n",
       "      <td>-0.909553</td>\n",
       "      <td>-0.805501</td>\n",
       "      <td>-1.041449</td>\n",
       "      <td>-0.856942</td>\n",
       "      <td>-0.965142</td>\n",
       "      <td>-1.153616</td>\n",
       "    </tr>\n",
       "  </tbody>\n",
       "</table>\n",
       "<p>101 rows × 21 columns</p>\n",
       "</div>"
      ],
      "text/plain": [
       "Year      1999      2000      2001      2002      2003      2004      2005  \\\n",
       "Age                                                                          \n",
       "0    -4.843174 -4.921252 -4.990539 -5.015246 -5.069112 -5.102586 -5.149553   \n",
       "1    -7.557843 -7.643810 -7.627246 -7.721941 -7.986565 -7.915613 -7.893932   \n",
       "2    -8.050319 -8.390561 -8.302082 -8.266434 -8.426439 -8.679712 -8.209708   \n",
       "3    -8.206039 -8.512206 -8.314252 -8.752916 -8.881037 -8.679712 -8.468403   \n",
       "4    -8.449535 -8.517193 -8.940313 -8.547652 -8.852666 -8.611504 -8.859684   \n",
       "..         ...       ...       ...       ...       ...       ...       ...   \n",
       "96   -0.998260 -1.033342 -1.040172 -1.126577 -1.004456 -1.065000 -1.031281   \n",
       "97   -0.886390 -0.990468 -0.985196 -1.037349 -1.019592 -1.018013 -1.001644   \n",
       "98   -0.899704 -0.913220 -0.865408 -0.882230 -0.923388 -0.971045 -0.978227   \n",
       "99   -0.753791 -0.859452 -0.905939 -0.828110 -0.857208 -0.920454 -0.934165   \n",
       "100  -0.637934 -0.970024 -0.829251 -0.992497 -0.861067 -0.796303 -0.906462   \n",
       "\n",
       "Year      2006      2007      2008  ...      2010      2011      2012  \\\n",
       "Age                                 ...                                 \n",
       "0    -5.250099 -5.242126 -5.282838  ... -5.429110 -5.478641 -5.458017   \n",
       "1    -7.902008 -8.056609 -7.977780  ... -8.108400 -8.177156 -8.403865   \n",
       "2    -8.195110 -8.595155 -8.399410  ... -8.563237 -8.798231 -8.940313   \n",
       "3    -8.622554 -8.600575 -8.685612  ... -8.910236 -8.791630 -9.044826   \n",
       "4    -8.709565 -8.622554 -8.628125  ... -8.895530 -8.987197 -9.133379   \n",
       "..         ...       ...       ...  ...       ...       ...       ...   \n",
       "96   -1.166703 -1.111853 -1.070824  ... -1.099048 -1.068254 -1.203013   \n",
       "97   -1.068789 -0.993906 -1.087402  ... -0.983176 -1.106997 -1.027253   \n",
       "98   -0.939869 -0.899171 -0.966201  ... -0.905155 -0.999246 -0.983152   \n",
       "99   -0.879766 -0.896121 -0.878383  ... -0.968700 -0.966545 -0.988351   \n",
       "100  -0.862196 -0.941947 -1.043278  ... -0.821094 -1.016780 -0.926998   \n",
       "\n",
       "Year      2013      2014      2015      2016      2017      2018      2019  \n",
       "Age                                                                         \n",
       "0    -5.480079 -5.512501 -5.613302 -5.608654 -5.605114 -5.652424 -5.607836  \n",
       "1    -8.170064 -8.149084 -8.173603 -8.368773 -8.330714 -8.507243 -8.426439  \n",
       "2    -8.818298 -8.697517 -8.825078 -8.740337 -8.932709 -8.746606 -9.036387  \n",
       "3    -8.873868 -8.662219 -9.326874 -9.349602 -9.220391 -9.061920 -9.282911  \n",
       "4    -8.971323 -9.408791 -9.190538 -9.672376 -9.408791 -9.220391 -9.338174  \n",
       "..         ...       ...       ...       ...       ...       ...       ...  \n",
       "96   -1.114105 -1.254789 -1.233072 -1.149841 -1.238654 -1.178698 -1.240243  \n",
       "97   -1.089074 -1.106607 -1.070538 -1.218437 -1.043954 -1.144139 -1.123130  \n",
       "98   -0.943731 -1.127864 -1.027605 -1.037270 -1.065322 -0.978714 -1.127061  \n",
       "99   -0.945766 -0.914657 -0.926041 -1.027379 -0.935379 -1.011968 -0.980088  \n",
       "100  -0.943212 -0.909553 -0.805501 -1.041449 -0.856942 -0.965142 -1.153616  \n",
       "\n",
       "[101 rows x 21 columns]"
      ]
     },
     "execution_count": 35,
     "metadata": {},
     "output_type": "execute_result"
    }
   ],
   "source": [
    "fm = mortality.pivot(index=\"Age\", columns=\"Year\", values='Female_l')\n",
    "fm_train = fm.iloc[:,0:round(np.shape(fm)[1]*2/3)]\n",
    "fm_cross_val = fm.iloc[:,round(np.shape(fm)[1]*2/3):]\n",
    "fm_cross_val"
   ]
  },
  {
   "cell_type": "code",
   "execution_count": 36,
   "metadata": {
    "collapsed": false,
    "pycharm": {
     "name": "#%%\n"
    }
   },
   "outputs": [],
   "source": [
    "# zmiana z fm na fm_train\n",
    "fm = fm_train"
   ]
  },
  {
   "cell_type": "code",
   "execution_count": 37,
   "metadata": {
    "collapsed": false,
    "pycharm": {
     "name": "#%%\n"
    }
   },
   "outputs": [],
   "source": [
    "fm = fm.to_numpy()"
   ]
  },
  {
   "cell_type": "code",
   "execution_count": 38,
   "metadata": {
    "collapsed": false,
    "pycharm": {
     "name": "#%%\n"
    }
   },
   "outputs": [
    {
     "data": {
      "text/plain": [
       "array([-3.72811038, -6.5983698 , -7.26181589, -7.60755221, -7.80696055,\n",
       "       -7.96837405, -8.03595265, -8.14930563, -8.18527256, -8.3270924 ,\n",
       "       -8.37625935, -8.41267133, -8.35984227, -8.31844372, -8.16710568,\n",
       "       -7.99940385, -7.91921401, -7.80552824, -7.71309826, -7.6617899 ,\n",
       "       -7.6683694 , -7.62161841, -7.60506201, -7.60838818, -7.53388377,\n",
       "       -7.50793832, -7.47337623, -7.38743   , -7.31962684, -7.27579685,\n",
       "       -7.18992445, -7.12098517, -7.05442611, -6.95853649, -6.86994498,\n",
       "       -6.79289413, -6.69066366, -6.62927429, -6.52156173, -6.42211741,\n",
       "       -6.32830619, -6.24773159, -6.17283834, -6.06835008, -5.9758391 ,\n",
       "       -5.89109024, -5.80106142, -5.71607769, -5.63393178, -5.52715325,\n",
       "       -5.4545779 , -5.367013  , -5.28563428, -5.20841119, -5.13390393,\n",
       "       -5.04221472, -4.9594328 , -4.86873625, -4.77763816, -4.67433716,\n",
       "       -4.55855517, -4.48271236, -4.38548562, -4.28343271, -4.18726179,\n",
       "       -4.07923743, -3.97294129, -3.85880091, -3.75401251, -3.63762954,\n",
       "       -3.52757936, -3.41462649, -3.30847244, -3.19064744, -3.07773583,\n",
       "       -2.96629913, -2.85198178, -2.7389461 , -2.62586535, -2.51520416,\n",
       "       -2.40178313, -2.29403842, -2.18841396, -2.08276171, -1.97885115,\n",
       "       -1.88551147, -1.78184446, -1.68414188, -1.60034023, -1.50957955,\n",
       "       -1.42037674, -1.34429723, -1.26409723, -1.18494923, -1.13248965,\n",
       "       -1.05861494, -1.01704923, -0.95729484, -1.00986698, -0.92232265,\n",
       "       -0.77122153])"
      ]
     },
     "execution_count": 38,
     "metadata": {},
     "output_type": "execute_result"
    }
   ],
   "source": [
    "a_x = fm.mean(axis=1)\n",
    "a_x"
   ]
  },
  {
   "cell_type": "code",
   "execution_count": null,
   "metadata": {
    "collapsed": false,
    "pycharm": {
     "name": "#%%\n"
    }
   },
   "outputs": [],
   "source": []
  },
  {
   "cell_type": "code",
   "execution_count": 39,
   "metadata": {
    "collapsed": false,
    "pycharm": {
     "name": "#%%\n"
    }
   },
   "outputs": [],
   "source": [
    "N = np.shape(fm)[0]\n",
    "T = np.shape(fm)[1]\n",
    "z_xt = fm - np.matlib.repmat(a_x, T, 1).T"
   ]
  },
  {
   "cell_type": "code",
   "execution_count": 40,
   "metadata": {
    "collapsed": false,
    "pycharm": {
     "name": "#%%\n"
    }
   },
   "outputs": [],
   "source": [
    "U, S, V = np.linalg.svd(z_xt, full_matrices=True)"
   ]
  },
  {
   "cell_type": "code",
   "execution_count": null,
   "metadata": {
    "collapsed": false,
    "pycharm": {
     "name": "#%%\n"
    }
   },
   "outputs": [],
   "source": []
  },
  {
   "cell_type": "code",
   "execution_count": 41,
   "metadata": {
    "collapsed": false,
    "pycharm": {
     "name": "#%%\n"
    }
   },
   "outputs": [],
   "source": [
    "bxkt = S[0] * np.dot(U[:, 0].reshape(N, 1), V[0, :].reshape(T, 1).T)\n",
    "eps = z_xt - bxkt\n",
    "\n",
    "logm_xt_lcfitted = bxkt + a_x.reshape(N, 1)\n",
    "\n",
    "b_x = U[:, 0]/U[:, 0].sum()\n",
    "k_t = V[0, :]*S[0]*U[:, 0].sum()\n",
    "a_x = a_x + k_t.sum()*b_x\n",
    "k_t = k_t - k_t.sum()\n"
   ]
  },
  {
   "cell_type": "code",
   "execution_count": 42,
   "metadata": {
    "collapsed": false,
    "pycharm": {
     "name": "#%%\n"
    }
   },
   "outputs": [
    {
     "name": "stdout",
     "output_type": "stream",
     "text": [
      "ADF Statistic: -1.392014\n",
      "p-value: 0.586098\n"
     ]
    }
   ],
   "source": [
    "# teraz arima\n",
    "from statsmodels.tsa.stattools import adfuller\n",
    "from numpy import log\n",
    "result = adfuller(k_t)\n",
    "print('ADF Statistic: %f' % result[0])\n",
    "print('p-value: %f' % result[1])"
   ]
  },
  {
   "cell_type": "code",
   "execution_count": 43,
   "metadata": {
    "collapsed": false,
    "pycharm": {
     "name": "#%%\n"
    }
   },
   "outputs": [
    {
     "data": {
      "image/png": "[encoded data removed]",
      "text/plain": [
       "<Figure size 1080x840 with 6 Axes>"
      ]
     },
     "metadata": {
      "needs_background": "light"
     },
     "output_type": "display_data"
    }
   ],
   "source": [
    "from statsmodels.graphics.tsaplots import plot_acf, plot_pacf\n",
    "\n",
    "plt.rcParams.update({'figure.figsize':(9,7), 'figure.dpi':120})\n",
    "\n",
    "# Original Series\n",
    "fig, axes = plt.subplots(3, 2, sharex=True)\n",
    "axes[0, 0].plot(k_t); axes[0, 0].set_title('Original Series')\n",
    "plot_acf(k_t, ax=axes[0, 1])\n",
    "\n",
    "# 1st Differencing\n",
    "axes[1, 0].plot(np.diff(k_t)); axes[1, 0].set_title('1st Order Differencing')\n",
    "plot_acf(np.diff(k_t), ax=axes[1, 1])\n",
    "\n",
    "# 2nd Differencing\n",
    "axes[2, 0].plot(np.diff(np.diff(k_t))); axes[2, 0].set_title('2nd Order Differencing')\n",
    "plot_acf(np.diff(np.diff(k_t)), ax=axes[2, 1])\n",
    "\n",
    "plt.show()"
   ]
  },
  {
   "cell_type": "code",
   "execution_count": 44,
   "metadata": {
    "collapsed": false,
    "pycharm": {
     "name": "#%%\n"
    }
   },
   "outputs": [],
   "source": [
    "from statsmodels.tsa.arima.model import ARIMA"
   ]
  },
  {
   "cell_type": "code",
   "execution_count": 45,
   "metadata": {
    "collapsed": false,
    "pycharm": {
     "name": "#%%\n"
    }
   },
   "outputs": [
    {
     "data": {
      "text/plain": [
       "array([ 32.63904105,  33.57687672,  23.52255615,  22.45620578,\n",
       "        22.67630441,  18.04235392,  15.34358453,  12.65084207,\n",
       "         9.90401282,   9.09576938,   7.29903537,   7.76042326,\n",
       "         6.90109208,   7.3718497 ,   3.19126842,   2.58563644,\n",
       "        -2.3309823 ,   1.33629318,  -1.16189048,  -0.04948997,\n",
       "         0.06725509,  -2.12486448,  -1.67587243,  -4.55371825,\n",
       "        -4.04919289,  -5.1459337 ,  -6.21268023,  -7.7514082 ,\n",
       "        -9.85556303, -11.74546687, -13.50688524,  -9.01858538,\n",
       "       -10.76104749,  -9.43678196, -13.75712636, -16.83134327,\n",
       "       -17.3884311 , -20.02276758, -20.73146881, -22.95218485,\n",
       "       -25.3567155 ])"
      ]
     },
     "execution_count": 45,
     "metadata": {},
     "output_type": "execute_result"
    }
   ],
   "source": [
    "# let's take 65 year old male\n",
    "k_t"
   ]
  },
  {
   "cell_type": "code",
   "execution_count": 46,
   "metadata": {},
   "outputs": [
    {
     "data": {
      "text/plain": [
       "ARIMA(order=(1, 1, 0), scoring_args={}, suppress_warnings=True)"
      ]
     },
     "execution_count": 46,
     "metadata": {},
     "output_type": "execute_result"
    }
   ],
   "source": [
    "arima.auto_arima(k_t)"
   ]
  },
  {
   "cell_type": "code",
   "execution_count": 54,
   "metadata": {},
   "outputs": [
    {
     "name": "stdout",
     "output_type": "stream",
     "text": [
      "                               SARIMAX Results                                \n",
      "==============================================================================\n",
      "Dep. Variable:                      y   No. Observations:                   41\n",
      "Model:                 ARIMA(1, 0, 1)   Log Likelihood                -102.742\n",
      "Date:                Fri, 10 Jun 2022   AIC                            213.483\n",
      "Time:                        15:25:35   BIC                            220.337\n",
      "Sample:                             0   HQIC                           215.979\n",
      "                                 - 41                                         \n",
      "Covariance Type:                  opg                                         \n",
      "==============================================================================\n",
      "                 coef    std err          z      P>|z|      [0.025      0.975]\n",
      "------------------------------------------------------------------------------\n",
      "const          3.2094     27.707      0.116      0.908     -51.096      57.515\n",
      "ar.L1          0.9942      0.038     26.254      0.000       0.920       1.068\n",
      "ma.L1          0.0279      0.238      0.117      0.907      -0.439       0.495\n",
      "sigma2         7.8749      2.024      3.890      0.000       3.908      11.842\n",
      "===================================================================================\n",
      "Ljung-Box (L1) (Q):                   3.32   Jarque-Bera (JB):                10.88\n",
      "Prob(Q):                              0.07   Prob(JB):                         0.00\n",
      "Heteroskedasticity (H):               0.57   Skew:                            -0.49\n",
      "Prob(H) (two-sided):                  0.30   Kurtosis:                         5.33\n",
      "===================================================================================\n",
      "\n",
      "Warnings:\n",
      "[1] Covariance matrix calculated using the outer product of gradients (complex-step).\n"
     ]
    }
   ],
   "source": [
    "mod = ARIMA(k_t, order=(1, 0, 1))\n",
    "res = mod.fit()\n",
    "print(res.summary())"
   ]
  },
  {
   "cell_type": "code",
   "execution_count": 48,
   "metadata": {
    "collapsed": false,
    "pycharm": {
     "name": "#%%\n"
    }
   },
   "outputs": [
    {
     "name": "stderr",
     "output_type": "stream",
     "text": [
      "c:\\Users\\andrz\\AppData\\Local\\Programs\\Python\\Python310\\lib\\site-packages\\statsmodels\\tsa\\statespace\\sarimax.py:978: UserWarning: Non-invertible starting MA parameters found. Using zeros as starting parameters.\n",
      "  warn('Non-invertible starting MA parameters found.'\n",
      "c:\\Users\\andrz\\AppData\\Local\\Programs\\Python\\Python310\\lib\\site-packages\\statsmodels\\base\\model.py:604: ConvergenceWarning: Maximum Likelihood optimization failed to converge. Check mle_retvals\n",
      "  warnings.warn(\"Maximum Likelihood optimization failed to \"\n",
      "c:\\Users\\andrz\\AppData\\Local\\Programs\\Python\\Python310\\lib\\site-packages\\statsmodels\\base\\model.py:604: ConvergenceWarning: Maximum Likelihood optimization failed to converge. Check mle_retvals\n",
      "  warnings.warn(\"Maximum Likelihood optimization failed to \"\n",
      "c:\\Users\\andrz\\AppData\\Local\\Programs\\Python\\Python310\\lib\\site-packages\\statsmodels\\tsa\\statespace\\sarimax.py:966: UserWarning: Non-stationary starting autoregressive parameters found. Using zeros as starting parameters.\n",
      "  warn('Non-stationary starting autoregressive parameters'\n",
      "c:\\Users\\andrz\\AppData\\Local\\Programs\\Python\\Python310\\lib\\site-packages\\statsmodels\\base\\model.py:604: ConvergenceWarning: Maximum Likelihood optimization failed to converge. Check mle_retvals\n",
      "  warnings.warn(\"Maximum Likelihood optimization failed to \"\n",
      "c:\\Users\\andrz\\AppData\\Local\\Programs\\Python\\Python310\\lib\\site-packages\\statsmodels\\base\\model.py:604: ConvergenceWarning: Maximum Likelihood optimization failed to converge. Check mle_retvals\n",
      "  warnings.warn(\"Maximum Likelihood optimization failed to \"\n",
      "c:\\Users\\andrz\\AppData\\Local\\Programs\\Python\\Python310\\lib\\site-packages\\statsmodels\\base\\model.py:604: ConvergenceWarning: Maximum Likelihood optimization failed to converge. Check mle_retvals\n",
      "  warnings.warn(\"Maximum Likelihood optimization failed to \"\n",
      "c:\\Users\\andrz\\AppData\\Local\\Programs\\Python\\Python310\\lib\\site-packages\\statsmodels\\base\\model.py:604: ConvergenceWarning: Maximum Likelihood optimization failed to converge. Check mle_retvals\n",
      "  warnings.warn(\"Maximum Likelihood optimization failed to \"\n",
      "c:\\Users\\andrz\\AppData\\Local\\Programs\\Python\\Python310\\lib\\site-packages\\statsmodels\\base\\model.py:604: ConvergenceWarning: Maximum Likelihood optimization failed to converge. Check mle_retvals\n",
      "  warnings.warn(\"Maximum Likelihood optimization failed to \"\n",
      "c:\\Users\\andrz\\AppData\\Local\\Programs\\Python\\Python310\\lib\\site-packages\\statsmodels\\base\\model.py:604: ConvergenceWarning: Maximum Likelihood optimization failed to converge. Check mle_retvals\n",
      "  warnings.warn(\"Maximum Likelihood optimization failed to \"\n",
      "c:\\Users\\andrz\\AppData\\Local\\Programs\\Python\\Python310\\lib\\site-packages\\statsmodels\\base\\model.py:604: ConvergenceWarning: Maximum Likelihood optimization failed to converge. Check mle_retvals\n",
      "  warnings.warn(\"Maximum Likelihood optimization failed to \"\n",
      "c:\\Users\\andrz\\AppData\\Local\\Programs\\Python\\Python310\\lib\\site-packages\\statsmodels\\base\\model.py:604: ConvergenceWarning: Maximum Likelihood optimization failed to converge. Check mle_retvals\n",
      "  warnings.warn(\"Maximum Likelihood optimization failed to \"\n",
      "c:\\Users\\andrz\\AppData\\Local\\Programs\\Python\\Python310\\lib\\site-packages\\statsmodels\\base\\model.py:604: ConvergenceWarning: Maximum Likelihood optimization failed to converge. Check mle_retvals\n",
      "  warnings.warn(\"Maximum Likelihood optimization failed to \"\n",
      "c:\\Users\\andrz\\AppData\\Local\\Programs\\Python\\Python310\\lib\\site-packages\\statsmodels\\base\\model.py:604: ConvergenceWarning: Maximum Likelihood optimization failed to converge. Check mle_retvals\n",
      "  warnings.warn(\"Maximum Likelihood optimization failed to \"\n",
      "c:\\Users\\andrz\\AppData\\Local\\Programs\\Python\\Python310\\lib\\site-packages\\statsmodels\\base\\model.py:604: ConvergenceWarning: Maximum Likelihood optimization failed to converge. Check mle_retvals\n",
      "  warnings.warn(\"Maximum Likelihood optimization failed to \"\n",
      "c:\\Users\\andrz\\AppData\\Local\\Programs\\Python\\Python310\\lib\\site-packages\\statsmodels\\base\\model.py:604: ConvergenceWarning: Maximum Likelihood optimization failed to converge. Check mle_retvals\n",
      "  warnings.warn(\"Maximum Likelihood optimization failed to \"\n",
      "c:\\Users\\andrz\\AppData\\Local\\Programs\\Python\\Python310\\lib\\site-packages\\statsmodels\\base\\model.py:604: ConvergenceWarning: Maximum Likelihood optimization failed to converge. Check mle_retvals\n",
      "  warnings.warn(\"Maximum Likelihood optimization failed to \"\n",
      "c:\\Users\\andrz\\AppData\\Local\\Programs\\Python\\Python310\\lib\\site-packages\\statsmodels\\base\\model.py:604: ConvergenceWarning: Maximum Likelihood optimization failed to converge. Check mle_retvals\n",
      "  warnings.warn(\"Maximum Likelihood optimization failed to \"\n",
      "c:\\Users\\andrz\\AppData\\Local\\Programs\\Python\\Python310\\lib\\site-packages\\statsmodels\\base\\model.py:604: ConvergenceWarning: Maximum Likelihood optimization failed to converge. Check mle_retvals\n",
      "  warnings.warn(\"Maximum Likelihood optimization failed to \"\n",
      "c:\\Users\\andrz\\AppData\\Local\\Programs\\Python\\Python310\\lib\\site-packages\\statsmodels\\base\\model.py:604: ConvergenceWarning: Maximum Likelihood optimization failed to converge. Check mle_retvals\n",
      "  warnings.warn(\"Maximum Likelihood optimization failed to \"\n",
      "c:\\Users\\andrz\\AppData\\Local\\Programs\\Python\\Python310\\lib\\site-packages\\statsmodels\\base\\model.py:604: ConvergenceWarning: Maximum Likelihood optimization failed to converge. Check mle_retvals\n",
      "  warnings.warn(\"Maximum Likelihood optimization failed to \"\n",
      "c:\\Users\\andrz\\AppData\\Local\\Programs\\Python\\Python310\\lib\\site-packages\\statsmodels\\base\\model.py:604: ConvergenceWarning: Maximum Likelihood optimization failed to converge. Check mle_retvals\n",
      "  warnings.warn(\"Maximum Likelihood optimization failed to \"\n",
      "c:\\Users\\andrz\\AppData\\Local\\Programs\\Python\\Python310\\lib\\site-packages\\statsmodels\\base\\model.py:604: ConvergenceWarning: Maximum Likelihood optimization failed to converge. Check mle_retvals\n",
      "  warnings.warn(\"Maximum Likelihood optimization failed to \"\n",
      "c:\\Users\\andrz\\AppData\\Local\\Programs\\Python\\Python310\\lib\\site-packages\\statsmodels\\base\\model.py:604: ConvergenceWarning: Maximum Likelihood optimization failed to converge. Check mle_retvals\n",
      "  warnings.warn(\"Maximum Likelihood optimization failed to \"\n",
      "c:\\Users\\andrz\\AppData\\Local\\Programs\\Python\\Python310\\lib\\site-packages\\statsmodels\\base\\model.py:604: ConvergenceWarning: Maximum Likelihood optimization failed to converge. Check mle_retvals\n",
      "  warnings.warn(\"Maximum Likelihood optimization failed to \"\n",
      "c:\\Users\\andrz\\AppData\\Local\\Programs\\Python\\Python310\\lib\\site-packages\\statsmodels\\base\\model.py:604: ConvergenceWarning: Maximum Likelihood optimization failed to converge. Check mle_retvals\n",
      "  warnings.warn(\"Maximum Likelihood optimization failed to \"\n",
      "c:\\Users\\andrz\\AppData\\Local\\Programs\\Python\\Python310\\lib\\site-packages\\statsmodels\\base\\model.py:604: ConvergenceWarning: Maximum Likelihood optimization failed to converge. Check mle_retvals\n",
      "  warnings.warn(\"Maximum Likelihood optimization failed to \"\n",
      "c:\\Users\\andrz\\AppData\\Local\\Programs\\Python\\Python310\\lib\\site-packages\\statsmodels\\base\\model.py:604: ConvergenceWarning: Maximum Likelihood optimization failed to converge. Check mle_retvals\n",
      "  warnings.warn(\"Maximum Likelihood optimization failed to \"\n",
      "c:\\Users\\andrz\\AppData\\Local\\Programs\\Python\\Python310\\lib\\site-packages\\statsmodels\\base\\model.py:604: ConvergenceWarning: Maximum Likelihood optimization failed to converge. Check mle_retvals\n",
      "  warnings.warn(\"Maximum Likelihood optimization failed to \"\n",
      "c:\\Users\\andrz\\AppData\\Local\\Programs\\Python\\Python310\\lib\\site-packages\\statsmodels\\base\\model.py:604: ConvergenceWarning: Maximum Likelihood optimization failed to converge. Check mle_retvals\n",
      "  warnings.warn(\"Maximum Likelihood optimization failed to \"\n",
      "c:\\Users\\andrz\\AppData\\Local\\Programs\\Python\\Python310\\lib\\site-packages\\statsmodels\\base\\model.py:604: ConvergenceWarning: Maximum Likelihood optimization failed to converge. Check mle_retvals\n",
      "  warnings.warn(\"Maximum Likelihood optimization failed to \"\n",
      "c:\\Users\\andrz\\AppData\\Local\\Programs\\Python\\Python310\\lib\\site-packages\\statsmodels\\base\\model.py:604: ConvergenceWarning: Maximum Likelihood optimization failed to converge. Check mle_retvals\n",
      "  warnings.warn(\"Maximum Likelihood optimization failed to \"\n",
      "c:\\Users\\andrz\\AppData\\Local\\Programs\\Python\\Python310\\lib\\site-packages\\statsmodels\\base\\model.py:604: ConvergenceWarning: Maximum Likelihood optimization failed to converge. Check mle_retvals\n",
      "  warnings.warn(\"Maximum Likelihood optimization failed to \"\n",
      "c:\\Users\\andrz\\AppData\\Local\\Programs\\Python\\Python310\\lib\\site-packages\\statsmodels\\base\\model.py:604: ConvergenceWarning: Maximum Likelihood optimization failed to converge. Check mle_retvals\n",
      "  warnings.warn(\"Maximum Likelihood optimization failed to \"\n",
      "c:\\Users\\andrz\\AppData\\Local\\Programs\\Python\\Python310\\lib\\site-packages\\statsmodels\\base\\model.py:604: ConvergenceWarning: Maximum Likelihood optimization failed to converge. Check mle_retvals\n",
      "  warnings.warn(\"Maximum Likelihood optimization failed to \"\n"
     ]
    },
    {
     "name": "stdout",
     "output_type": "stream",
     "text": [
      "[-85.55598979682435, 4, 2, 3]\n"
     ]
    },
    {
     "name": "stderr",
     "output_type": "stream",
     "text": [
      "c:\\Users\\andrz\\AppData\\Local\\Programs\\Python\\Python310\\lib\\site-packages\\statsmodels\\base\\model.py:604: ConvergenceWarning: Maximum Likelihood optimization failed to converge. Check mle_retvals\n",
      "  warnings.warn(\"Maximum Likelihood optimization failed to \"\n"
     ]
    }
   ],
   "source": [
    "d = []\n",
    "for a in range(5):\n",
    "    for b in range(5):\n",
    "        for c in range(5):\n",
    "            mod = ARIMA(k_t, order=(a,b,c))\n",
    "            res = mod.fit()\n",
    "            d.append([res.llf, a, b, c])\n",
    "print(max(d))"
   ]
  },
  {
   "cell_type": "code",
   "execution_count": null,
   "metadata": {
    "collapsed": false,
    "pycharm": {
     "name": "#%%\n"
    }
   },
   "outputs": [],
   "source": []
  },
  {
   "cell_type": "code",
   "execution_count": 55,
   "metadata": {
    "collapsed": false,
    "pycharm": {
     "name": "#%%\n"
    }
   },
   "outputs": [
    {
     "name": "stdout",
     "output_type": "stream",
     "text": [
      "                               SARIMAX Results                                \n",
      "==============================================================================\n",
      "Dep. Variable:                      y   No. Observations:                   41\n",
      "Model:                 ARIMA(1, 0, 1)   Log Likelihood                -102.742\n",
      "Date:                Fri, 10 Jun 2022   AIC                            213.483\n",
      "Time:                        15:25:45   BIC                            220.337\n",
      "Sample:                             0   HQIC                           215.979\n",
      "                                 - 41                                         \n",
      "Covariance Type:                  opg                                         \n",
      "==============================================================================\n",
      "                 coef    std err          z      P>|z|      [0.025      0.975]\n",
      "------------------------------------------------------------------------------\n",
      "const          3.2094     27.707      0.116      0.908     -51.096      57.515\n",
      "ar.L1          0.9942      0.038     26.254      0.000       0.920       1.068\n",
      "ma.L1          0.0279      0.238      0.117      0.907      -0.439       0.495\n",
      "sigma2         7.8749      2.024      3.890      0.000       3.908      11.842\n",
      "===================================================================================\n",
      "Ljung-Box (L1) (Q):                   3.32   Jarque-Bera (JB):                10.88\n",
      "Prob(Q):                              0.07   Prob(JB):                         0.00\n",
      "Heteroskedasticity (H):               0.57   Skew:                            -0.49\n",
      "Prob(H) (two-sided):                  0.30   Kurtosis:                         5.33\n",
      "===================================================================================\n",
      "\n",
      "Warnings:\n",
      "[1] Covariance matrix calculated using the outer product of gradients (complex-step).\n"
     ]
    },
    {
     "data": {
      "text/plain": [
       "array([-25.26117988, -25.0966027 , -24.93297687, -24.77029691,\n",
       "       -24.60855733, -24.44775271, -24.28787763, -24.12892674,\n",
       "       -23.97089467, -23.81377613, -23.65756583, -23.50225852,\n",
       "       -23.34784898, -23.19433203, -23.04170249, -22.88995525,\n",
       "       -22.7390852 , -22.58908727, -22.43995643, -22.29168765])"
      ]
     },
     "execution_count": 55,
     "metadata": {},
     "output_type": "execute_result"
    }
   ],
   "source": [
    "mod = ARIMA(k_t, order=(1, 0, 1))\n",
    "res = mod.fit()\n",
    "print(res.summary())\n",
    "\n",
    "pred = res.forecast(steps=20)\n",
    "pred"
   ]
  },
  {
   "cell_type": "code",
   "execution_count": 56,
   "metadata": {
    "collapsed": false,
    "pycharm": {
     "name": "#%%\n"
    }
   },
   "outputs": [
    {
     "data": {
      "text/plain": [
       "array([0.01326077, 0.01327249, 0.01328416, 0.01329578, 0.01330733,\n",
       "       0.01331883, 0.01333027, 0.01334166, 0.01335299, 0.01336426,\n",
       "       0.01337548, 0.01338664, 0.01339775, 0.0134088 , 0.0134198 ,\n",
       "       0.01343074, 0.01344163, 0.01345246, 0.01346324, 0.01347397])"
      ]
     },
     "execution_count": 56,
     "metadata": {},
     "output_type": "execute_result"
    }
   ],
   "source": [
    "np.exp(a_x[64] + b_x[64]*pred)"
   ]
  },
  {
   "cell_type": "code",
   "execution_count": null,
   "metadata": {
    "collapsed": false,
    "pycharm": {
     "name": "#%%\n"
    }
   },
   "outputs": [],
   "source": []
  },
  {
   "cell_type": "code",
   "execution_count": null,
   "metadata": {},
   "outputs": [],
   "source": []
  }
 ],
 "metadata": {
  "kernelspec": {
   "display_name": "Python 3.10.1 64-bit",
   "language": "python",
   "name": "python3"
  },
  "language_info": {
   "codemirror_mode": {
    "name": "ipython",
    "version": 3
   },
   "file_extension": ".py",
   "mimetype": "text/x-python",
   "name": "python",
   "nbconvert_exporter": "python",
   "pygments_lexer": "ipython3",
   "version": "3.10.1"
  },
  "vscode": {
   "interpreter": {
    "hash": "d38922d36489c8af6ee2b2d50f32a85ff90f4f0643b51da8d07090b2c64ad6eb"
   }
  }
 },
 "nbformat": 4,
 "nbformat_minor": 0
}
